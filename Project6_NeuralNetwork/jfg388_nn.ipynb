{
  "nbformat": 4,
  "nbformat_minor": 0,
  "metadata": {
    "kernelspec": {
      "display_name": "Python 3",
      "language": "python",
      "name": "python3"
    },
    "language_info": {
      "codemirror_mode": {
        "name": "ipython",
        "version": 3
      },
      "file_extension": ".py",
      "mimetype": "text/x-python",
      "name": "python",
      "nbconvert_exporter": "python",
      "pygments_lexer": "ipython3",
      "version": "3.8.0"
    },
    "colab": {
      "name": "jfg388_nn2.ipynb",
      "provenance": [],
      "collapsed_sections": []
    }
  },
  "cells": [
    {
      "cell_type": "markdown",
      "metadata": {
        "id": "Lgk7_G_8g8vW",
        "colab_type": "text"
      },
      "source": [
        "# Neural Network from Scratch\n"
      ]
    },
    {
      "cell_type": "markdown",
      "metadata": {
        "id": "bVPihopXg8vX",
        "colab_type": "text"
      },
      "source": [
        "## Import libraries\n",
        "\n",
        "We will be using the lower resolution MINST data set"
      ]
    },
    {
      "cell_type": "code",
      "metadata": {
        "id": "4q9-frt9g8vY",
        "trusted": false,
        "colab_type": "code",
        "colab": {}
      },
      "source": [
        "from sklearn.datasets import load_digits # The MNIST data set is in scikit learn data set\n",
        "from sklearn.preprocessing import StandardScaler  # It is important in neural networks to scale the date\n",
        "from sklearn.model_selection import train_test_split  # The standard - train/test to prevent overfitting and choose hyperparameters\n",
        "from sklearn.metrics import accuracy_score # \n",
        "import numpy as np\n",
        "import numpy.random as r # We will randomly initialize our weights\n",
        "import matplotlib.pyplot as plt \n",
        "from sklearn import preprocessing"
      ],
      "execution_count": 0,
      "outputs": []
    },
    {
      "cell_type": "markdown",
      "metadata": {
        "id": "D8S80c4zg8vc",
        "colab_type": "text"
      },
      "source": [
        "## Looking at the data\n",
        "\n",
        "After we load the data, we print the shape of the data and a pixelated digit.\n",
        "\n",
        "We also show what the features of one example looks like.\n",
        "\n",
        "The neural net will learn to estimate which digit these pixels represent."
      ]
    },
    {
      "cell_type": "code",
      "metadata": {
        "id": "07aFK5-Dg8vc",
        "trusted": false,
        "colab_type": "code",
        "colab": {}
      },
      "source": [
        "# load all the digits (img)\n",
        "digits = load_digits()\n",
        "# load the data from the digit (img)\n",
        "X = digits.data\n",
        "y = digits.target\n",
        "print(\"The shape of the digits dataset:\") \n",
        "print(digits.data.shape)\n",
        "# plot the digits\n",
        "# using .gray()\n",
        "\n",
        "# and .matshow() with argument digit.images[xx]\n",
        "\n",
        "# plt.show()\n",
        "\n",
        "# get the gt for this digit img\n",
        "plt.gray()\n",
        "plt.matshow(digits.images[0])\n",
        "# print(digits.images[0])\n",
        "plt.show()\n",
        "print(y[0:1])\n",
        "print(X[0,:])\n",
        "print(X)"
      ],
      "execution_count": 0,
      "outputs": []
    },
    {
      "cell_type": "markdown",
      "metadata": {
        "id": "c5I5m9lQg8vh",
        "colab_type": "text"
      },
      "source": [
        "## 1) Scale the dataset\n",
        "The training features range from 0 to 15.  To help the algorithm converge, we will scale the data to have a mean of 0 and unit variance"
      ]
    },
    {
      "cell_type": "code",
      "metadata": {
        "id": "VRg-N7Evg8vi",
        "trusted": false,
        "colab_type": "code",
        "colab": {}
      },
      "source": [
        "# use the stander lib to scale the data\n",
        "# init the scaler \n",
        "# scaler = StandardScaler()\n",
        "# # fit the data to the scaler \n",
        "# scaler.fit_transform(X)\n",
        "# scaler.transform(X)\n",
        "# Looking the new features after scaling\n",
        "X = preprocessing.scale(X)\n",
        "print(X[0])\n",
        "print(\"Mean: \",np.mean(X))\n",
        "print(\"Standard Deviation: \",np.std(X))"
      ],
      "execution_count": 0,
      "outputs": []
    },
    {
      "cell_type": "markdown",
      "metadata": {
        "id": "za4WAWocg8vl",
        "colab_type": "text"
      },
      "source": [
        "## 2) Creating training and test datasets\n",
        "We split the data into training and test data sets. We will train the neural network with the training dataset, and evaluate our neural network with the test dataset "
      ]
    },
    {
      "cell_type": "code",
      "metadata": {
        "id": "x8buD39Gg8vl",
        "trusted": false,
        "colab_type": "code",
        "colab": {}
      },
      "source": [
        "#Split the data into training and test set.  60% training and %40 test\n",
        "X_train, X_test, y_train, y_test = train_test_split(X, y, test_size=0.4)"
      ],
      "execution_count": 0,
      "outputs": []
    },
    {
      "cell_type": "markdown",
      "metadata": {
        "id": "EPQBr4Mmg8vo",
        "colab_type": "text"
      },
      "source": [
        "## 3) Setting up the output layer"
      ]
    },
    {
      "cell_type": "markdown",
      "metadata": {
        "id": "mZx0EEV1g8vo",
        "colab_type": "text"
      },
      "source": [
        "### One hot encoding"
      ]
    },
    {
      "cell_type": "code",
      "metadata": {
        "id": "Kj792L2Rg8vp",
        "trusted": false,
        "colab_type": "code",
        "colab": {}
      },
      "source": [
        "def convert_y_to_vect(y):\n",
        "#     Our target is an integer in the range [0,..,9], so we will have 10 output neuron's in our network.  \n",
        "\n",
        "#     If  y=0 we want the output neurons to have the values (1,0,0,0,0,0,0,0,0,0)\n",
        "#     If  y=1 we want the output neurons to have the values (0,1,0,0,0,0,0,0,0,0)\n",
        "#     etc\n",
        "\n",
        "#     Thus we need to change our target so it is the same as our hoped for output of the neural network. \n",
        "\n",
        "#     If y=0$we change it into the vector (1,0,0,0,0,0,0,0,0,0)\n",
        "#     If y=1 we change it into the vector (0,1,0,0,0,0,0,0,0,0)\n",
        "#     etc\n",
        "\n",
        "#     The code to covert the target vector.\n",
        "    result = []\n",
        "    for i in y:\n",
        "      if i==0:\n",
        "        result.append([1,0,0,0,0,0,0,0,0,0])\n",
        "      elif i==1:\n",
        "        result.append([0,1,0,0,0,0,0,0,0,0])\n",
        "      elif i==2:\n",
        "        result.append([0,0,1,0,0,0,0,0,0,0])\n",
        "      elif i==3:\n",
        "        result.append([0,0,0,1,0,0,0,0,0,0])\n",
        "      elif i==4:\n",
        "        result.append([0,0,0,0,1,0,0,0,0,0])\n",
        "      elif i==5:\n",
        "        result.append([0,0,0,0,0,1,0,0,0,0])\n",
        "      elif i==6:\n",
        "        result.append([0,0,0,0,0,0,1,0,0,0])\n",
        "      elif i==7:\n",
        "        result.append([0,0,0,0,0,0,0,1,0,0])\n",
        "      elif i==8:\n",
        "        result.append([0,0,0,0,0,0,0,0,1,0])\n",
        "      elif i==9:\n",
        "        result.append([0,0,0,0,0,0,0,0,0,1])\n",
        "    return result\n",
        "print(convert_y_to_vect([8,9,1]))"
      ],
      "execution_count": 0,
      "outputs": []
    },
    {
      "cell_type": "markdown",
      "metadata": {
        "id": "m8C61DqDg8vr",
        "colab_type": "text"
      },
      "source": [
        "Converting the training and test targets to vectors "
      ]
    },
    {
      "cell_type": "code",
      "metadata": {
        "id": "oI319SV6g8vs",
        "trusted": false,
        "colab_type": "code",
        "colab": {}
      },
      "source": [
        "# convert digits to vectors using the func above\n",
        "# appky this to both train and test splits\n",
        "# y_test = convert_y_to_vect(y_test)\n",
        "# print(y_test[0])\n",
        "# for i in y_test:\n",
        "#   print(i)\n",
        "\n",
        "y_v_test = convert_y_to_vect(y_test)\n",
        "y_v_train = convert_y_to_vect(y_train)\n"
      ],
      "execution_count": 0,
      "outputs": []
    },
    {
      "cell_type": "markdown",
      "metadata": {
        "id": "SvOj9dMWg8vx",
        "colab_type": "text"
      },
      "source": [
        "A quick check to see that our code performs as we expect "
      ]
    },
    {
      "cell_type": "code",
      "metadata": {
        "id": "9bhsEQLSg8vx",
        "trusted": false,
        "colab_type": "code",
        "colab": {}
      },
      "source": [
        "print(y_train[0:4])\n",
        "print(y_v_train[0:4]) "
      ],
      "execution_count": 0,
      "outputs": []
    },
    {
      "cell_type": "markdown",
      "metadata": {
        "id": "XKyp2pkYg8v0",
        "colab_type": "text"
      },
      "source": [
        "## 4) Creating the neural network"
      ]
    },
    {
      "cell_type": "markdown",
      "metadata": {
        "id": "2YCzfQ_Dg8v1",
        "colab_type": "text"
      },
      "source": [
        "### The activation function and its derivative"
      ]
    },
    {
      "cell_type": "code",
      "metadata": {
        "id": "xeebRUd6g8v1",
        "trusted": false,
        "colab_type": "code",
        "colab": {}
      },
      "source": [
        "# We will use the sigmoid activation function:  f(z)={1}/{1+e^{-z}}\n",
        "import math\n",
        "def f(x):\n",
        "    return(1/(1+np.e**(-x)))\n",
        "\n",
        "# The deriviative of the sigmoid function is: $f'(z) = f(z)(1-f(z))$ \n",
        "def f_deriv(x):\n",
        "    return ((f(x)*(1-f(x))))\n",
        "\n",
        "#Tahn activation function and its derivative\n",
        "\n",
        "def tanh(x):\n",
        "    return (np.e**(2*x)-1)/(np.e**(2*x)+1)\n",
        "def tanh_deriv(x):\n",
        "  return 1-tanh(x)**2\n",
        "\n",
        "#relu activation funtion and its derivative \n",
        "def relu(x):\n",
        "  return np.maximum(0, x)\n",
        "\n",
        "def relu_deriv(x):\n",
        "  x[x<=0] = 0\n",
        "  x[x>0] = 1\n",
        "  return x\n",
        "\n",
        "\n",
        "\n"
      ],
      "execution_count": 0,
      "outputs": []
    },
    {
      "cell_type": "markdown",
      "metadata": {
        "id": "fhSavtnTg8v4",
        "colab_type": "text"
      },
      "source": [
        "### Creating and initialing W and b\n"
      ]
    },
    {
      "cell_type": "code",
      "metadata": {
        "id": "p30jdxOJg8v4",
        "trusted": false,
        "colab_type": "code",
        "colab": {}
      },
      "source": [
        "def setup_and_init_weights(nn_structure):\n",
        "    # The weights in W are different so that during back propagation the nodes on a level will have different gradients and thus have different update values.\n",
        "    #creating a dictionary for wiehgts i.e. a set of key: value pairs\n",
        "    weights = {}\n",
        "\n",
        "    #creating a dictionary for bias i.e. a set of key: value pairs\n",
        "    bs = {}\n",
        "    print(nn_structure)\n",
        "    for i in range(1,len(nn_structure)):\n",
        "        # We want the weights to be small values, since the sigmoid is almost \"flat\" for large inputs.\n",
        "        # Next is the code that assigns each weight a number uniformly drawn from $[0.0, 1.0)$.  \n",
        "        # The code assumes that the number of neurons in each level is in the python list *nn_structure*.\n",
        "        # .random_sample return “continuous uniform” random floats in the half-open interval [0.0, 1.0)\n",
        "        print(nn_structure[i]) \n",
        "        layer = i\n",
        "        weights[('L'+str(layer))] = np.random.random_sample((nn_structure[i],nn_structure[i-1]))\n",
        "        bs[('L'+str(layer))] = np.zeros((nn_structure[i],))\n",
        "        bs[('L'+str(layer))][np.where(bs[('L'+str(layer))]==0)]=0.1\n",
        "\n",
        "        \n",
        "    # Return weight and b\n",
        "    return weights,bs\n",
        "\n",
        "w,b = setup_and_init_weights([64,5,10])\n",
        "print(\"Initial Sample Weights:\\n\",w['L1'][0])\n",
        "print(\"Initial Sample Biases: \\n\",b)"
      ],
      "execution_count": 0,
      "outputs": []
    },
    {
      "cell_type": "markdown",
      "metadata": {
        "id": "dELXmM1xg8v7",
        "colab_type": "text"
      },
      "source": [
        "### Initializing $\\triangledown W$ and $\\triangledown b$\n"
      ]
    },
    {
      "cell_type": "code",
      "metadata": {
        "id": "nUQkym6yg8v8",
        "trusted": false,
        "colab_type": "code",
        "colab": {}
      },
      "source": [
        "def init_tri_values(nn_structure):\n",
        "    # Creating dlt_W and dlt_b to have the same size as W and b,and init the dlt_W, and dlt_b to 0\n",
        "    dlt_W={}\n",
        "    dlt_b = {}\n",
        "    \n",
        "    # use for loop to init the dlt W and dlt b\n",
        "    for i in range(1,len(nn_structure)):\n",
        "      layer = i\n",
        "      dlt_W[('L'+str(layer))] = np.zeros((nn_structure[i],nn_structure[i-1]))\n",
        "      dlt_b[('L'+str(layer))] = np.zeros((nn_structure[i],))\n",
        "\n",
        "\n",
        "    \n",
        "        # you can use np.zeros\n",
        "    return dlt_W,dlt_b\n",
        "\n",
        "dw,db = init_tri_values([64,5,10])\n",
        "print(\"Initial Sample dw: \\n\",dw)\n",
        "print(\"Initial Sample db: \\n\",db)"
      ],
      "execution_count": 0,
      "outputs": []
    },
    {
      "cell_type": "markdown",
      "metadata": {
        "id": "xnWnKJc0g8v-",
        "colab_type": "text"
      },
      "source": [
        "## Feed forward\n",
        "Perform a forward pass throught the network.  The function returns the values of $a$ and $z$"
      ]
    },
    {
      "cell_type": "code",
      "metadata": {
        "id": "UwWfS9Grg8v_",
        "trusted": false,
        "colab_type": "code",
        "colab": {}
      },
      "source": [
        "def feed_forward(x, W, b,act_function = f):\n",
        "    # create a dictionary for holding the a values for all levels\n",
        "    a = {}\n",
        "\n",
        "    # create a dictionary for holding the z values for all the layers\n",
        "    z = {}\n",
        "\n",
        "    # x = np.reshape(x,(x.shape[0],1))\n",
        "    # act_function = np.vectorize(act_function)\n",
        "    layers = len(W)+1\n",
        "\n",
        "    for layer in range(layers):\n",
        "      currentlayer_key = \"L\"+str(layer+1)\n",
        "      if currentlayer_key==\"L1\":\n",
        "        a[currentlayer_key] = act_function(x)\n",
        "      else:\n",
        "        previouslayer_key = \"L\"+str(layer)\n",
        "        z[currentlayer_key] = W[previouslayer_key].dot(a[previouslayer_key]) + b[previouslayer_key]\n",
        "        a[currentlayer_key] = act_function(z[currentlayer_key])\n",
        "\n",
        "\n",
        "\n",
        " \n",
        "\n",
        "\n",
        "    \n",
        "        \n",
        "    return z,a\n"
      ],
      "execution_count": 0,
      "outputs": []
    },
    {
      "cell_type": "markdown",
      "metadata": {
        "id": "8cTNWyitg8wB",
        "colab_type": "text"
      },
      "source": [
        "## Compute $\\delta$\n",
        "compute $\\delta^{(s_l)}$ in a function called \"calculate_out_layer_delta\",  and  computes $\\delta^{(\\ell)}$ for the hidden layers in the function called \"calculate_hidden_delta\".  \n",
        "\n"
      ]
    },
    {
      "cell_type": "code",
      "metadata": {
        "id": "mo07UzLwg8wC",
        "trusted": false,
        "colab_type": "code",
        "colab": {}
      },
      "source": [
        "def calculate_out_layer_delta(y, a_out, z_out,act_deriv = f_deriv):\n",
        "    # act_deriv = np.vectorize(act_deriv)\n",
        "    # delta^(nl) = -(y_i - a_i^(nl)) * f'(z_i^(nl))\n",
        "    delta = (-(y-a_out))*(act_deriv(z_out))\n",
        "    return delta\n",
        "\n",
        "\n",
        "def calculate_hidden_delta(delta_plus_1, w_l, z_l,act_deriv = f_deriv):\n",
        "    # act_deriv = np.vectorize(act_deriv)\n",
        "    hidden_delta = w_l.T.dot(delta_plus_1)*act_deriv(z_l)\n",
        "    return hidden_delta"
      ],
      "execution_count": 0,
      "outputs": []
    },
    {
      "cell_type": "markdown",
      "metadata": {
        "id": "754Sz2DFg8wE",
        "colab_type": "text"
      },
      "source": [
        "## The Back Propagation Algorithm\n"
      ]
    },
    {
      "cell_type": "code",
      "metadata": {
        "id": "-r619Orgg8wF",
        "trusted": false,
        "colab_type": "code",
        "colab": {}
      },
      "source": [
        "def train_nn(nn_structure, X, y, iter_num=3000, alpha=0.25,act_function = f, act_deriv = f_deriv):\n",
        "    # init W and b\n",
        "    W,b = setup_and_init_weights(nn_structure)\n",
        "    \n",
        "    # init counter to 0\n",
        "    counter = 1\n",
        "    \n",
        "    # store the length of data\n",
        "    data_rows,data_columns = X.shape\n",
        "    \n",
        "    # init a list to store the all costs\n",
        "    costs = []\n",
        "    print('Starting gradient descent for {} iterations'.format(iter_num))\n",
        "    # while the counter is less than the max iterations:\n",
        "\n",
        "    while counter<iter_num:\n",
        "        # print the iteration number for every 1000 iter\n",
        "        if (counter % 1000 == 0):\n",
        "          print(\"Iteration {} \".format(counter))\n",
        "        \n",
        "        \n",
        "        # init delt_W and delt_b\n",
        "        delta_W,delta_b = init_tri_values(nn_structure)\n",
        "\n",
        "        \n",
        "        # init the cost to 0\n",
        "        cost = 0\n",
        "        \n",
        "        # for each data:\n",
        "        #datarows\n",
        "        for i in range(data_rows):\n",
        "            \n",
        "            # perform the feed forward pass and return the stored a and z values, to be used in the\n",
        "            # gradient descent step\n",
        "            z,a = feed_forward(X[i], W, b,act_function = act_function)\n",
        "            delta_values = {}\n",
        "\n",
        "          \n",
        "            \n",
        "            # loop from nl-1 to 1 backpropagating the errors\n",
        "            for ln in range(len(a),0,-1):\n",
        "              layer = \"L\"+str(ln)\n",
        "              if layer ==('L'+str(len(nn_structure))):\n",
        "                delta_values[layer] = calculate_out_layer_delta(y[i], a[layer], z[layer],act_deriv = act_deriv)\n",
        "                cost += np.sqrt(np.sum((a[layer] - y[i])**2))\n",
        "              else:\n",
        "                previouslayer = 'L'+str(ln+1)\n",
        "                if layer!=\"L1\":\n",
        "                  delta_values[layer] = calculate_hidden_delta(delta_values[previouslayer], W[layer], z[layer],act_deriv = act_deriv)\n",
        "\n",
        "                # triW^(l) = triW^(l) + delta^(l+1) * transpose(a^(l))\n",
        "                # trib^(l) = trib^(l) + delta^(l+1)\n",
        "                dv_pl =delta_values[previouslayer][:, np.newaxis]\n",
        "                a_l_T = a[layer][:,np.newaxis].T\n",
        "                x = dv_pl.dot(a_l_T)\n",
        "                delta_W[layer] +=  x    \n",
        "                delta_b[layer] +=  delta_values[previouslayer]\n",
        "                \n",
        "        # complete the average cost (mean squared error) calculation\n",
        "        # append the cost to the cost list\n",
        "        data_iteration_cost = cost/data_rows\n",
        "        costs.append(data_iteration_cost)\n",
        "\n",
        "                \n",
        "          # perform the gradient descent step for the weights in each layer\n",
        "        for ln in range(len(a)-1,0,-1):\n",
        "          delta_W[layer] = delta_W[layer]/data_rows\n",
        "          delta_b[layer] = delta_b[layer]/data_rows\n",
        "          layer = \"L\"+str(ln)\n",
        "          W[layer] += -alpha*(delta_W[layer])\n",
        "          b[layer] += -alpha*(delta_b[layer])\n",
        "                \n",
        "\n",
        "\n",
        "        \n",
        "        # increase the counter \n",
        "        counter+=1\n",
        "        \n",
        "    return W,b,costs\n",
        "\n",
        "\n"
      ],
      "execution_count": 0,
      "outputs": []
    },
    {
      "cell_type": "markdown",
      "metadata": {
        "id": "P9oi_xIog8wJ",
        "colab_type": "text"
      },
      "source": [
        "## Running the neural network\n",
        "\n",
        "Our code assumes the size of each layer in our network is held in a list.  The input layer will have 64 neurons (one for each pixel in our 8 by 8 pixelated digit).  Our hidden layer has 30 neurons (you can change this value).  The output layer has 10 neurons.\n",
        "\n",
        "Next we create the python list to hold the number of neurons for each level and then run the neural network code with our training data.\n",
        "\n",
        "This code will take some time..."
      ]
    },
    {
      "cell_type": "code",
      "metadata": {
        "id": "cfGLZrDQg8wK",
        "trusted": false,
        "colab_type": "code",
        "colab": {}
      },
      "source": [
        "nn_structure = [64, 50, 30, 10]\n",
        "    \n",
        "# train the NN with the nn_structure and 3000 iterations\n",
        "W,b,costs = train_nn(nn_structure,X_train,y_v_train)"
      ],
      "execution_count": 0,
      "outputs": []
    },
    {
      "cell_type": "code",
      "metadata": {
        "id": "w4-rp3giLwQ3",
        "trusted": false,
        "colab_type": "code",
        "colab": {}
      },
      "source": [
        "def predict_y(W, b, X, n_layers,act_function = f):\n",
        "    # store the length of data\n",
        "    data_rows = len(X)\n",
        "    last_layer = 'L' + str(len(n_layers))\n",
        "    # init for prediction array\n",
        "    prediction = []\n",
        "    \n",
        "    \n",
        "    # for each data:\n",
        "    for i in range(data_rows):\n",
        "      z,a = feed_forward(X[i], W, b,act_function = act_function)\n",
        "      result = np.array(a[last_layer])\n",
        "      result[np.where(result==np.max(result))] = 1\n",
        "      result[np.where(result!=1)]=0\n",
        "      prediction.append(result)\n",
        "\n",
        "    \n",
        "        # feed forward\n",
        "        \n",
        "        # predict\n",
        "        \n",
        "    return prediction\n",
        "\n",
        "y_pred = predict_y(W,b,X_test,nn_structure)\n",
        "\n",
        "# for i in range(20):\n",
        "#   print(y_v_test[i])"
      ],
      "execution_count": 0,
      "outputs": []
    },
    {
      "cell_type": "markdown",
      "metadata": {
        "id": "JbzKcIN4g8wO",
        "colab_type": "text"
      },
      "source": [
        "### Plotting the learning curve\n"
      ]
    },
    {
      "cell_type": "code",
      "metadata": {
        "id": "VDnmndK1g8wP",
        "trusted": false,
        "colab_type": "code",
        "colab": {}
      },
      "source": [
        "# plot the avg_cost_func \n",
        "\n",
        "# x label: \"Iteration number\"\n",
        "\n",
        "# y label: \"Average J\"\n",
        "plt.plot(costs)\n",
        "plt.xlabel('Iteration number')\n",
        "plt.ylabel('Average J')\n",
        "plt.show()\n",
        "plt.show()"
      ],
      "execution_count": 0,
      "outputs": []
    },
    {
      "cell_type": "markdown",
      "metadata": {
        "id": "d8F7MbkCg8wS",
        "colab_type": "text"
      },
      "source": [
        "## 5) Assessing accuracy\n",
        "Next we determine what percentage the neural network correctly predicted the handwritten digit correctly on the test set"
      ]
    },
    {
      "cell_type": "code",
      "metadata": {
        "id": "cFLogB3Fg8wS",
        "trusted": false,
        "colab_type": "code",
        "colab": {}
      },
      "source": [
        "# get the prediction accuracy and print\n",
        "\n",
        "print('Prediction accuracy is {}%'.format(accuracy_score(y_v_test, y_pred) * 100))"
      ],
      "execution_count": 0,
      "outputs": []
    },
    {
      "cell_type": "markdown",
      "metadata": {
        "id": "DMTcKNFdaITv",
        "colab_type": "text"
      },
      "source": [
        "## [64,50,30,10] NN with Tahn Activation function"
      ]
    },
    {
      "cell_type": "code",
      "metadata": {
        "id": "ZzwX3CwraRDx",
        "trusted": false,
        "colab_type": "code",
        "colab": {}
      },
      "source": [
        "\n",
        "    \n",
        "# train the NN with the nn_structure and 3000 iterations\n",
        "W_tanh,b_tanh,costs_tanh = train_nn(nn_structure,X_train,y_v_train,act_function = tanh, act_deriv = tanh_deriv)\n",
        "y_pred_tanh = predict_y(W_tanh,b_tanh,X_test,nn_structure)\n",
        "plt.plot(costs_tanh)\n",
        "plt.xlabel('Iteration number')\n",
        "plt.ylabel('Average J')\n",
        "plt.show()\n",
        "plt.show()\n",
        "print('Prediction accuracy is {}%'.format(accuracy_score(y_v_test, y_pred_tanh) * 100))\n",
        "\n"
      ],
      "execution_count": 0,
      "outputs": []
    },
    {
      "cell_type": "markdown",
      "metadata": {
        "id": "bnGko0EFf1WH",
        "colab_type": "text"
      },
      "source": [
        "#[64,50,30,10] NN with ReLu Activation Function"
      ]
    },
    {
      "cell_type": "code",
      "metadata": {
        "id": "aJhEANyUf-4E",
        "trusted": false,
        "colab_type": "code",
        "colab": {}
      },
      "source": [
        "W_relu,b_relu,costs_relu= train_nn(nn_structure,X_train,y_v_train,act_function = relu, act_deriv = relu_deriv)\n",
        "y_pred_relu = predict_y(W_relu,b_relu,X_test,nn_structure)\n",
        "plt.plot(costs_relu)\n",
        "plt.xlabel('Iteration number')\n",
        "plt.ylabel('Average J')\n",
        "plt.show()\n",
        "plt.show()\n",
        "print('Prediction accuracy is {}%'.format(accuracy_score(y_v_test, y_pred_relu) * 100))"
      ],
      "execution_count": 0,
      "outputs": []
    },
    {
      "cell_type": "markdown",
      "metadata": {
        "id": "LiLLxNVS8z0m",
        "colab_type": "text"
      },
      "source": [
        "# Resources\n",
        "\n",
        "- https://medium.com/tebs-lab/how-to-classify-mnist-digits-with-different-neural-network-architectures-39c75a0f03e3\n",
        "- https://towardsdatascience.com/understanding-neural-networks-19020b758230\n",
        "- https://medium.com/@glenmeyerowitz/bias-initialization-in-a-neural-network-2e5d26fed0f0\n",
        "- http://www.wildml.com/2015/09/implementing-a-neural-network-from-scratch/\n",
        "- https://towardsdatascience.com/understanding-neural-networks-what-how-and-why-18ec703ebd31\n",
        "- https://www.coursera.org/learn/machine-learning/lecture/1z9WW/backpropagation-algorithm\n",
        "- https://towardsdatascience.com/first-neural-network-for-beginners-explained-with-code-4cfd37e06eaf\n"
      ]
    },
    {
      "cell_type": "markdown",
      "metadata": {
        "id": "p-uzcmEbvqWC",
        "colab_type": "text"
      },
      "source": [
        ""
      ]
    },
    {
      "cell_type": "markdown",
      "metadata": {
        "id": "dFrTkEGXho6h",
        "colab_type": "text"
      },
      "source": [
        "#Results \n",
        "After running the Neural Network Model using a structure of 4 layers composed of 64, 50, 30, and 10 neurons respectively with three different activation functions, we arrived to the following results:\n",
        "- <b>[64,50,30,10] NN with Sigmoid Activation Function</b>: 96.45% accuracy\n",
        "- <b>[64,50,30,10] NN with Tanh Activation Function</b>: 10% accuracy\n",
        "- <b>[64,50,30,10] NN with ReLu Activation Function</b>: 0% accuracy\n",
        "The sigmoid Neural Network performed best, followed by the tan NN andb the ReLu NN. The Relu NN performed worst, probably because of its very shallow decision of activation that is biased for negative numbers.\n"
      ]
    },
    {
      "cell_type": "markdown",
      "metadata": {
        "id": "ke2HbaY3vuvf",
        "colab_type": "text"
      },
      "source": [
        "# Based on the results above, I will experiment with my own hyperparameters by defining a new structure of the neural network ([64,50,50,10]) using the best activation function (Sigmoid) I found above."
      ]
    },
    {
      "cell_type": "code",
      "metadata": {
        "id": "WVcWS3N3v9za",
        "trusted": false,
        "colab_type": "code",
        "colab": {}
      },
      "source": [
        "W_mynn,b_mynn,costs_mynn = train_nn([64,50,50,10],X_train,y_v_train)\n",
        "y_pred_mynn = predict_y(W_mynn,b_mynn,X_test,[64,50,50,10])\n",
        "plt.plot(costs_mynn)\n",
        "plt.xlabel('Iteration number')\n",
        "plt.ylabel('Average J')\n",
        "plt.show()\n",
        "plt.show()\n",
        "print('Prediction accuracy is {}%'.format(accuracy_score(y_v_test, y_pred_mynn) * 100))"
      ],
      "execution_count": 0,
      "outputs": []
    }
  ]
}