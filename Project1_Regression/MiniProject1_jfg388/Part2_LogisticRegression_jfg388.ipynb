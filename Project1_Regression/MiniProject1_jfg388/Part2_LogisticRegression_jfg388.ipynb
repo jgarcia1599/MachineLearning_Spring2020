{
  "nbformat": 4,
  "nbformat_minor": 0,
  "metadata": {
    "kernelspec": {
      "display_name": "Python 3",
      "language": "python",
      "name": "python3"
    },
    "language_info": {
      "codemirror_mode": {
        "name": "ipython",
        "version": 3
      },
      "file_extension": ".py",
      "mimetype": "text/x-python",
      "name": "python",
      "nbconvert_exporter": "python",
      "pygments_lexer": "ipython3",
      "version": "3.7.2"
    },
    "colab": {
      "name": "Part2_LogisticRegression.ipynb",
      "provenance": [],
      "collapsed_sections": []
    }
  },
  "cells": [
    {
      "cell_type": "markdown",
      "metadata": {
        "id": "K0A7yUKs9y0f",
        "colab_type": "text"
      },
      "source": [
        "# Logistic Regression \n",
        "\n",
        "In the assignment, you will use gradient ascent to find the weights for the logistic regression.   \n",
        "\n",
        "As an example, we will use the widely-used breast cancer data set.  This data set is described here:\n",
        "\n",
        "https://archive.ics.uci.edu/ml/machine-learning-databases/breast-cancer-wisconsin\n"
      ]
    },
    {
      "cell_type": "markdown",
      "metadata": {
        "id": "mZDC-J829y0g",
        "colab_type": "text"
      },
      "source": [
        "## Requirement 1-2:  Getting, preprocessing, and understanding the dataset"
      ]
    },
    {
      "cell_type": "markdown",
      "metadata": {
        "id": "rgDnwaGs9y0i",
        "colab_type": "text"
      },
      "source": [
        "### Importing the standard libraries"
      ]
    },
    {
      "cell_type": "code",
      "metadata": {
        "id": "vfN-e3Rz9y0j",
        "colab_type": "code",
        "colab": {}
      },
      "source": [
        "# Importing important libraries\n",
        "# Import breastcancer dataset\n",
        "# Import preprocessing from sklearn\n",
        "# Import train_test_split from sklearn\n",
        "# Import numpy,math\n",
        "import numpy as np\n",
        "import sklearn\n",
        "from sklearn.datasets import load_breast_cancer\n",
        "from sklearn.preprocessing import PolynomialFeatures\n",
        "from sklearn import preprocessing\n",
        "from sklearn.model_selection import train_test_split\n",
        "import sklearn.linear_model\n",
        "from sklearn.model_selection import KFold\n",
        "import pandas as pd\n",
        "from sklearn.metrics import mean_squared_error\n",
        "import matplotlib.pyplot as plt\n",
        "import collections\n"
      ],
      "execution_count": 0,
      "outputs": []
    },
    {
      "cell_type": "markdown",
      "metadata": {
        "id": "I5HaKyfi9y0m",
        "colab_type": "text"
      },
      "source": [
        "### Importing the dataset"
      ]
    },
    {
      "cell_type": "code",
      "metadata": {
        "id": "X5aoUwJe9y0n",
        "colab_type": "code",
        "outputId": "7ef0c8e8-f5fd-40db-e7ba-27ff779e5ee0",
        "colab": {
          "base_uri": "https://localhost:8080/",
          "height": 34
        }
      },
      "source": [
        "# Load dataset to a python variable cancer\n",
        "cancer = load_breast_cancer()\n",
        "print(cancer.keys())"
      ],
      "execution_count": 2,
      "outputs": [
        {
          "output_type": "stream",
          "text": [
            "dict_keys(['data', 'target', 'target_names', 'DESCR', 'feature_names', 'filename'])\n"
          ],
          "name": "stdout"
        }
      ]
    },
    {
      "cell_type": "markdown",
      "metadata": {
        "id": "Mi2OKYVrV6oc",
        "colab_type": "text"
      },
      "source": [
        "###Exploration of the Data Set"
      ]
    },
    {
      "cell_type": "code",
      "metadata": {
        "id": "-axJgdLEV52K",
        "colab_type": "code",
        "outputId": "fe648685-55dd-4929-85cf-4ac3e21123ea",
        "colab": {
          "base_uri": "https://localhost:8080/",
          "height": 187
        }
      },
      "source": [
        "print(\"Shape of the data set: \")\n",
        "print(cancer.data.shape)\n",
        "print(\"Actual Data Set: \")\n",
        "print(cancer.data)"
      ],
      "execution_count": 3,
      "outputs": [
        {
          "output_type": "stream",
          "text": [
            "Shape of the data set: \n",
            "(569, 30)\n",
            "Actual Data Set: \n",
            "[[1.799e+01 1.038e+01 1.228e+02 ... 2.654e-01 4.601e-01 1.189e-01]\n",
            " [2.057e+01 1.777e+01 1.329e+02 ... 1.860e-01 2.750e-01 8.902e-02]\n",
            " [1.969e+01 2.125e+01 1.300e+02 ... 2.430e-01 3.613e-01 8.758e-02]\n",
            " ...\n",
            " [1.660e+01 2.808e+01 1.083e+02 ... 1.418e-01 2.218e-01 7.820e-02]\n",
            " [2.060e+01 2.933e+01 1.401e+02 ... 2.650e-01 4.087e-01 1.240e-01]\n",
            " [7.760e+00 2.454e+01 4.792e+01 ... 0.000e+00 2.871e-01 7.039e-02]]\n"
          ],
          "name": "stdout"
        }
      ]
    },
    {
      "cell_type": "code",
      "metadata": {
        "id": "yPz0JSh9WHW5",
        "colab_type": "code",
        "outputId": "c5bfb43e-2886-432e-b8fe-17dc1546689a",
        "colab": {
          "base_uri": "https://localhost:8080/",
          "height": 204
        }
      },
      "source": [
        "print(\"Features of the data set to run logistic regression on: \")\n",
        "cancer.feature_names"
      ],
      "execution_count": 4,
      "outputs": [
        {
          "output_type": "stream",
          "text": [
            "Features of the data set to run logistic regression on: \n"
          ],
          "name": "stdout"
        },
        {
          "output_type": "execute_result",
          "data": {
            "text/plain": [
              "array(['mean radius', 'mean texture', 'mean perimeter', 'mean area',\n",
              "       'mean smoothness', 'mean compactness', 'mean concavity',\n",
              "       'mean concave points', 'mean symmetry', 'mean fractal dimension',\n",
              "       'radius error', 'texture error', 'perimeter error', 'area error',\n",
              "       'smoothness error', 'compactness error', 'concavity error',\n",
              "       'concave points error', 'symmetry error',\n",
              "       'fractal dimension error', 'worst radius', 'worst texture',\n",
              "       'worst perimeter', 'worst area', 'worst smoothness',\n",
              "       'worst compactness', 'worst concavity', 'worst concave points',\n",
              "       'worst symmetry', 'worst fractal dimension'], dtype='<U23')"
            ]
          },
          "metadata": {
            "tags": []
          },
          "execution_count": 4
        }
      ]
    },
    {
      "cell_type": "code",
      "metadata": {
        "id": "Cn45oCBdWO9B",
        "colab_type": "code",
        "outputId": "c0f19217-f5ff-42af-f316-e5537540cded",
        "colab": {
          "base_uri": "https://localhost:8080/",
          "height": 71
        }
      },
      "source": [
        "print(\"Description of the data set\")\n",
        "cancer.DESCR"
      ],
      "execution_count": 5,
      "outputs": [
        {
          "output_type": "stream",
          "text": [
            "Description of the data set\n"
          ],
          "name": "stdout"
        },
        {
          "output_type": "execute_result",
          "data": {
            "text/plain": [
              "'.. _breast_cancer_dataset:\\n\\nBreast cancer wisconsin (diagnostic) dataset\\n--------------------------------------------\\n\\n**Data Set Characteristics:**\\n\\n    :Number of Instances: 569\\n\\n    :Number of Attributes: 30 numeric, predictive attributes and the class\\n\\n    :Attribute Information:\\n        - radius (mean of distances from center to points on the perimeter)\\n        - texture (standard deviation of gray-scale values)\\n        - perimeter\\n        - area\\n        - smoothness (local variation in radius lengths)\\n        - compactness (perimeter^2 / area - 1.0)\\n        - concavity (severity of concave portions of the contour)\\n        - concave points (number of concave portions of the contour)\\n        - symmetry \\n        - fractal dimension (\"coastline approximation\" - 1)\\n\\n        The mean, standard error, and \"worst\" or largest (mean of the three\\n        largest values) of these features were computed for each image,\\n        resulting in 30 features.  For instance, field 3 is Mean Radius, field\\n        13 is Radius SE, field 23 is Worst Radius.\\n\\n        - class:\\n                - WDBC-Malignant\\n                - WDBC-Benign\\n\\n    :Summary Statistics:\\n\\n    ===================================== ====== ======\\n                                           Min    Max\\n    ===================================== ====== ======\\n    radius (mean):                        6.981  28.11\\n    texture (mean):                       9.71   39.28\\n    perimeter (mean):                     43.79  188.5\\n    area (mean):                          143.5  2501.0\\n    smoothness (mean):                    0.053  0.163\\n    compactness (mean):                   0.019  0.345\\n    concavity (mean):                     0.0    0.427\\n    concave points (mean):                0.0    0.201\\n    symmetry (mean):                      0.106  0.304\\n    fractal dimension (mean):             0.05   0.097\\n    radius (standard error):              0.112  2.873\\n    texture (standard error):             0.36   4.885\\n    perimeter (standard error):           0.757  21.98\\n    area (standard error):                6.802  542.2\\n    smoothness (standard error):          0.002  0.031\\n    compactness (standard error):         0.002  0.135\\n    concavity (standard error):           0.0    0.396\\n    concave points (standard error):      0.0    0.053\\n    symmetry (standard error):            0.008  0.079\\n    fractal dimension (standard error):   0.001  0.03\\n    radius (worst):                       7.93   36.04\\n    texture (worst):                      12.02  49.54\\n    perimeter (worst):                    50.41  251.2\\n    area (worst):                         185.2  4254.0\\n    smoothness (worst):                   0.071  0.223\\n    compactness (worst):                  0.027  1.058\\n    concavity (worst):                    0.0    1.252\\n    concave points (worst):               0.0    0.291\\n    symmetry (worst):                     0.156  0.664\\n    fractal dimension (worst):            0.055  0.208\\n    ===================================== ====== ======\\n\\n    :Missing Attribute Values: None\\n\\n    :Class Distribution: 212 - Malignant, 357 - Benign\\n\\n    :Creator:  Dr. William H. Wolberg, W. Nick Street, Olvi L. Mangasarian\\n\\n    :Donor: Nick Street\\n\\n    :Date: November, 1995\\n\\nThis is a copy of UCI ML Breast Cancer Wisconsin (Diagnostic) datasets.\\nhttps://goo.gl/U2Uwz2\\n\\nFeatures are computed from a digitized image of a fine needle\\naspirate (FNA) of a breast mass.  They describe\\ncharacteristics of the cell nuclei present in the image.\\n\\nSeparating plane described above was obtained using\\nMultisurface Method-Tree (MSM-T) [K. P. Bennett, \"Decision Tree\\nConstruction Via Linear Programming.\" Proceedings of the 4th\\nMidwest Artificial Intelligence and Cognitive Science Society,\\npp. 97-101, 1992], a classification method which uses linear\\nprogramming to construct a decision tree.  Relevant features\\nwere selected using an exhaustive search in the space of 1-4\\nfeatures and 1-3 separating planes.\\n\\nThe actual linear program used to obtain the separating plane\\nin the 3-dimensional space is that described in:\\n[K. P. Bennett and O. L. Mangasarian: \"Robust Linear\\nProgramming Discrimination of Two Linearly Inseparable Sets\",\\nOptimization Methods and Software 1, 1992, 23-34].\\n\\nThis database is also available through the UW CS ftp server:\\n\\nftp ftp.cs.wisc.edu\\ncd math-prog/cpo-dataset/machine-learn/WDBC/\\n\\n.. topic:: References\\n\\n   - W.N. Street, W.H. Wolberg and O.L. Mangasarian. Nuclear feature extraction \\n     for breast tumor diagnosis. IS&T/SPIE 1993 International Symposium on \\n     Electronic Imaging: Science and Technology, volume 1905, pages 861-870,\\n     San Jose, CA, 1993.\\n   - O.L. Mangasarian, W.N. Street and W.H. Wolberg. Breast cancer diagnosis and \\n     prognosis via linear programming. Operations Research, 43(4), pages 570-577, \\n     July-August 1995.\\n   - W.H. Wolberg, W.N. Street, and O.L. Mangasarian. Machine learning techniques\\n     to diagnose breast cancer from fine-needle aspirates. Cancer Letters 77 (1994) \\n     163-171.'"
            ]
          },
          "metadata": {
            "tags": []
          },
          "execution_count": 5
        }
      ]
    },
    {
      "cell_type": "code",
      "metadata": {
        "scrolled": true,
        "id": "WPCaierY9y0r",
        "colab_type": "code",
        "outputId": "3c756a25-d587-4073-d5fe-9f016180ff05",
        "colab": {
          "base_uri": "https://localhost:8080/",
          "height": 51
        }
      },
      "source": [
        "# Store target to a variable called y\n",
        "# Store feature to a variable called X\n",
        "# Printing the shape of data (X) and target (Y) values \n",
        "# print(X.shape)\n",
        "# print(y.shape)\n",
        "X = cancer.data\n",
        "y = cancer.target\n",
        "print(X.shape)\n",
        "print(y.shape)\n"
      ],
      "execution_count": 6,
      "outputs": [
        {
          "output_type": "stream",
          "text": [
            "(569, 30)\n",
            "(569,)\n"
          ],
          "name": "stdout"
        }
      ]
    },
    {
      "cell_type": "markdown",
      "metadata": {
        "id": "mICqU4sf9y0u",
        "colab_type": "text"
      },
      "source": [
        "### Data Pre-Processing\n",
        "#### Splitting the data into train and test before scaling the dataset\n"
      ]
    },
    {
      "cell_type": "code",
      "metadata": {
        "id": "yLTbZ0ua9y0v",
        "colab_type": "code",
        "colab": {}
      },
      "source": [
        "# Use train_test_split() function to split the dataset\n",
        "# Store the return value of pervious step to X_train, X_test, y_train, y_test\n",
        "\n",
        "X_train, X_test, y_train, y_test = train_test_split(X,y)"
      ],
      "execution_count": 0,
      "outputs": []
    },
    {
      "cell_type": "markdown",
      "metadata": {
        "id": "PGjL3f9d9y0y",
        "colab_type": "text"
      },
      "source": [
        "#### Scale the data since we will be using gradient ascent"
      ]
    },
    {
      "cell_type": "code",
      "metadata": {
        "id": "epQMFXxs9y00",
        "colab_type": "code",
        "colab": {}
      },
      "source": [
        "# Find the scaler of the dataset by using preprocessing.StandardScaler().fit()\n",
        "# Using this scale to scale the X_train and X_test using .transform()\n",
        "scaler = preprocessing.StandardScaler().fit(X_train)\n",
        "X_train = scaler.transform(X_train)\n",
        "X_test = scaler.transform(X_test)"
      ],
      "execution_count": 0,
      "outputs": []
    },
    {
      "cell_type": "code",
      "metadata": {
        "id": "a6BWl7NL9y03",
        "colab_type": "code",
        "outputId": "9213fad5-3916-411a-981a-13f7962770b3",
        "colab": {
          "base_uri": "https://localhost:8080/",
          "height": 51
        }
      },
      "source": [
        "# TODO - Print the shape of x_train and y_train \n",
        "print(X_train.shape) # It should print (426, 30)\n",
        "print(y_train.shape) # It should print (426,)"
      ],
      "execution_count": 9,
      "outputs": [
        {
          "output_type": "stream",
          "text": [
            "(426, 30)\n",
            "(426,)\n"
          ],
          "name": "stdout"
        }
      ]
    },
    {
      "cell_type": "markdown",
      "metadata": {
        "id": "Din1mbCB9y06",
        "colab_type": "text"
      },
      "source": [
        "#### Adding a column of ones to the  matrices $X_{train}$ and  $X_{test}$\n",
        "After adding a column of ones $X_{train}=\\left[\\begin{matrix}\n",
        "1& x^{(1)}_1& x^{(1)}_2 &\\ldots& x^{(1)}_d\\\\\n",
        "1& x^{(2)}_1& x^{(2)}_2 &\\ldots& x^{(2)}_d\\\\\n",
        "\\vdots & \\vdots &\\vdots & & \\vdots \\\\\n",
        "1& x^{(N')}_1& x^{(N')}_2 &\\ldots& x^{(N')}_d\\\\\n",
        "\\end{matrix}\\right]$\n",
        "\n",
        "Similarly for $X_{test}$"
      ]
    },
    {
      "cell_type": "code",
      "metadata": {
        "id": "TnMcv9xx9y07",
        "colab_type": "code",
        "outputId": "c9d8e175-6990-4b7c-a0f8-faba6ab20ab6",
        "colab": {
          "base_uri": "https://localhost:8080/",
          "height": 51
        }
      },
      "source": [
        "# Append a column of ones to x_train \n",
        "\n",
        "# Create a column vector of ones by using np.ones and reshape\n",
        "# Append a column of ones in the beginning of x_train by using np.hstack\n",
        "bias_train = np.ones((X_train.shape[0],1))\n",
        "X_train = np.c_[bias_train, X_train]\n",
        "\n",
        "# Now do the same for the test data\n",
        "bias_test = np.ones((X_test.shape[0],1))\n",
        "X_test = np.c_[bias_test,X_test]\n",
        "# We can check that everything worked correctly by:\n",
        "# Printing out the new dimensions\n",
        "print(\"The trainng data has dimensions: \", X_train.shape, \". The testing data has dimensions: \",X_test.shape)\n",
        "# # Looking at the first two rows of X_train to check everything worked as expected\n",
        "print(X_train[23][0])"
      ],
      "execution_count": 10,
      "outputs": [
        {
          "output_type": "stream",
          "text": [
            "The trainng data has dimensions:  (426, 31) . The testing data has dimensions:  (143, 31)\n",
            "1.0\n"
          ],
          "name": "stdout"
        }
      ]
    },
    {
      "cell_type": "markdown",
      "metadata": {
        "id": "RnoQLWS-9y1E",
        "colab_type": "text"
      },
      "source": [
        "\n",
        " Before writing the gradient ascent code, first write some helpful functions"
      ]
    },
    {
      "cell_type": "markdown",
      "metadata": {
        "id": "4pAxkPCe9y1F",
        "colab_type": "text"
      },
      "source": [
        "\n",
        " \n",
        "### Sigmoid($z$)\n",
        "The first function you will write is sigmoid($z$)\n",
        "\n",
        "sigmoid($z$) takes as input a column vector of real numbers, $z^T = [z_1, z_2, ..., z_{N'}]$, where $N'$ is the number of  examples\n",
        "\n",
        "It should produce as output a column vector $\\left[\\frac{1}{1+e^{-z_1}},\\frac{1}{1+e^{-z_2}},...,\\frac{1}{1+e^{-z_{N'}}}\\right]^T$"
      ]
    },
    {
      "cell_type": "code",
      "metadata": {
        "id": "DNzWudPc9y1G",
        "colab_type": "code",
        "colab": {}
      },
      "source": [
        "# Write the sigmoid function\n",
        "def sigmoid(z):\n",
        "  sigmoid =(1 / (1+np.exp(-z))) \n",
        "  \n",
        "  return sigmoid\n"
      ],
      "execution_count": 0,
      "outputs": []
    },
    {
      "cell_type": "markdown",
      "metadata": {
        "id": "EIIGHsMa9y1I",
        "colab_type": "text"
      },
      "source": [
        "### Initializing ${\\bf w}$\n",
        "For testing the next functions, we create a coefficient vector, ${\\bf w}$.\n",
        "We will initialize the coeffients to be $0$, i.e. ${\\bf w}^T = [0,0,\\ldots ,0]$ (We could have initialized ${\\bf w}$ to any values.)"
      ]
    },
    {
      "cell_type": "code",
      "metadata": {
        "id": "S2rHrGmI9y1J",
        "colab_type": "code",
        "outputId": "66a613fa-0114-49e8-e3fb-8a558c3b71d9",
        "colab": {
          "base_uri": "https://localhost:8080/",
          "height": 544
        }
      },
      "source": [
        "# Initialize w to random values\n",
        "w = np.empty((X_train.shape[1],1))\n",
        "print(w)"
      ],
      "execution_count": 12,
      "outputs": [
        {
          "output_type": "stream",
          "text": [
            "[[2.78275479e-316]\n",
            " [1.00295326e-321]\n",
            " [0.00000000e+000]\n",
            " [0.00000000e+000]\n",
            " [0.00000000e+000]\n",
            " [1.16095484e-028]\n",
            " [4.81784283e+116]\n",
            " [6.64916189e+246]\n",
            " [7.13227388e-154]\n",
            " [2.88645119e+214]\n",
            " [2.43813713e-152]\n",
            " [1.65172550e-076]\n",
            " [6.96770842e+252]\n",
            " [7.33955251e+223]\n",
            " [9.47069281e-154]\n",
            " [4.63362101e+228]\n",
            " [7.35874553e+223]\n",
            " [2.34617775e-110]\n",
            " [6.19522232e+223]\n",
            " [5.03734623e+180]\n",
            " [1.54722523e+262]\n",
            " [7.48952651e+247]\n",
            " [8.76739466e+252]\n",
            " [8.89489936e+252]\n",
            " [5.54175225e+257]\n",
            " [6.02182527e+151]\n",
            " [9.30537465e+199]\n",
            " [2.20835466e-094]\n",
            " [5.50028887e+247]\n",
            " [2.15799222e+243]\n",
            " [4.06021814e-317]]\n"
          ],
          "name": "stdout"
        }
      ]
    },
    {
      "cell_type": "markdown",
      "metadata": {
        "id": "6K8kbk4d9y1N",
        "colab_type": "text"
      },
      "source": [
        "### Our hypothesis, $h({\\bf x})$\n",
        "The next  function to write is our hypothesis function. \n",
        "\n",
        "For example if our design matrix $X$ consists of single example $X=[1,x_1,x_2,\\ldots,x_d]$ and  weights ${\\bf w}^T=[w_0,w_2,\\ldots, w_d]$, it returns $h({\\bf x})=\\frac{1}{1+e^{-\\left({w_{0}\\cdot 1 +w_1\\cdot x_1+\\cdots w_d\\cdot x_d}\\right)}}$\n",
        "\n",
        "If given a  matrix consisting of $N'$ examples \n",
        "$X=\\left[\\begin{matrix}\n",
        "1& x^{(1)}_1& x^{(1)}_2 &\\ldots& x^{(1)}_d\\\\\n",
        "1& x^{(2)}_1& x^{(2)}_2 &\\ldots& x^{(2)}_d\\\\\n",
        "\\vdots & \\vdots &\\vdots & & \\vdots \\\\\n",
        "1& x^{(N')}_1& x^{(N')}_2 &\\ldots& x^{(N')}_d\\\\\n",
        "\\end{matrix}\\right]$\n",
        "and  weights ${\\bf w}^T=[w_0,w_2,\\ldots, w_d]$, the function returns a column vector\n",
        "$[h({\\bf x}^{(1)}),h({\\bf x}^{(2)},\\ldots, h({\\bf x}^{(N')}]^T$"
      ]
    },
    {
      "cell_type": "code",
      "metadata": {
        "id": "nDePDW0C9y1O",
        "colab_type": "code",
        "colab": {}
      },
      "source": [
        "# Predict the probability that a patient has cancer \n",
        "# Write the hypothesis function \n",
        "def hypothesis(X , w):\n",
        "  regression = np.dot(X,w)\n",
        "  hypothesis_results = sigmoid (regression)\n",
        "  return hypothesis_results"
      ],
      "execution_count": 0,
      "outputs": []
    },
    {
      "cell_type": "markdown",
      "metadata": {
        "id": "s3-63X-g9y1R",
        "colab_type": "text"
      },
      "source": [
        "### Log-Likelihood Function.\n",
        "Write the code to calculate the log likelihood function $\\ell({\\bf w})=\n",
        "\\sum_{i=1}^{N'}y^{(i)}\\ln(h({\\bf x}^{(i)})) +(1- y^{(i)})\\ln(1-h({\\bf x}^{(i)}))$\n",
        "\n",
        "The input is a matrix consisting of $N'$ examples $X=\\left[\\begin{matrix}\n",
        "1& x^{(1)}_1& x^{(1)}_2 &\\ldots& x^{(1)}_d\\\\\n",
        "1& x^{(2)}_1& x^{(2)}_2 &\\ldots& x^{(2)}_d\\\\\n",
        "\\vdots & \\vdots &\\vdots & & \\vdots \\\\\n",
        "1& x^{(N')}_1& x^{(N')}_2 &\\ldots& x^{(N')}_d\\\\\n",
        "\\end{matrix}\\right]$\n",
        "and a column vector ${\\bf y}^T=[y^{(1)},y^{(2)},\\dots,y^{(N')}]$ of labels for $X$.\n",
        "\n",
        "The output is $\\ell({\\bf w})$"
      ]
    },
    {
      "cell_type": "code",
      "metadata": {
        "id": "CwHPJmKz9y1S",
        "colab_type": "code",
        "colab": {}
      },
      "source": [
        "# Write the log likelihood function \n",
        "def log_likelihood(X , y , w ):\n",
        "  hyp = hypothesis(X,w)\n",
        "  ll = y * np.log(hyp) + (1 - y)*np.log(1 - hyp)\n",
        "  ll = np.sum(ll)\n",
        "  ll = (1/X.shape[0]) * ll\n",
        "  return ll"
      ],
      "execution_count": 0,
      "outputs": []
    },
    {
      "cell_type": "markdown",
      "metadata": {
        "id": "HTXzigYZ9y1U",
        "colab_type": "text"
      },
      "source": [
        "# Gradient Ascent\n",
        "Now write the code to perform gradient ascent.  You will use the update rule from the lecture notes."
      ]
    },
    {
      "cell_type": "code",
      "metadata": {
        "id": "C2MnSAWb9y1V",
        "colab_type": "code",
        "colab": {}
      },
      "source": [
        "# TODO - Write the gradient ascent function \n",
        "def Logistic_Regresion_Gradient_Ascent(X, y, learning_rate, num_iters):\n",
        "    # For every 100 iterations, store the log_likelihood for the current w\n",
        "    \n",
        "    # Initializing log_likelihood to be an empty list  \n",
        "    log_likelihood_values = []\n",
        "    # Initialize w to be a zero vector of shape x_train.shape[1],1\n",
        "    w = np.zeros((X.shape[1],1))\n",
        "    # Initialize N to the number of training examples\n",
        "    N = X.shape[0]\n",
        "    for i in range(num_iters):\n",
        "      # append the log_likelihodd values to the list for every 100 iterations\n",
        "      if( (i%100) == 0):\n",
        "        log_likelihood_values.append(log_likelihood(X,y, w))\n",
        "      hyp = hypothesis(X,w)\n",
        "      gradient = (1/N)*np.dot(X.T,hyp-y)\n",
        "      # update the w using formula \n",
        "      w = w - learning_rate*gradient      \n",
        "        \n",
        "    return w, log_likelihood_values\n"
      ],
      "execution_count": 0,
      "outputs": []
    },
    {
      "cell_type": "markdown",
      "metadata": {
        "id": "RKY5y4Bv9y1Y",
        "colab_type": "text"
      },
      "source": [
        "### Requirement 3 - 5\n",
        "Run the machine learning algorithm of gradient descent to train the logistic regression model to define the best w (theta) whilst decreasing the log-likelihood values during training. The goal is to graph the results to see if the algorithm optimizes the weight values after every iteration. An initial learning rate of 0.5 is used so as to slowly reach the local maxima of the logistic regression after every step. This will be done for 5000 iterations, and the resulting weights will be printed."
      ]
    },
    {
      "cell_type": "code",
      "metadata": {
        "id": "4Phzo6nf9y1Z",
        "colab_type": "code",
        "outputId": "c988b8f4-e946-4118-c958-9a5a9d9e4d51",
        "colab": {
          "base_uri": "https://localhost:8080/",
          "height": 581
        }
      },
      "source": [
        "# Set the learning_rate\n",
        "learning_rate = 0.5\n",
        "# Set the num_iters\n",
        "num_iters = 5000\n",
        "# Run the Logistic_Regresion_Gradient_Ascent() and store the returned values\n",
        "w, log_likelihood_values = Logistic_Regresion_Gradient_Ascent(X_train, y_train.reshape(y_train.shape[0],1), learning_rate, num_iters)\n",
        "print(w)\n",
        "print(log_likelihood_values)"
      ],
      "execution_count": 16,
      "outputs": [
        {
          "output_type": "stream",
          "text": [
            "[[-1.26863962]\n",
            " [-0.0339327 ]\n",
            " [-0.31299746]\n",
            " [-0.03786036]\n",
            " [-0.51372388]\n",
            " [-0.90537516]\n",
            " [ 3.02758847]\n",
            " [-1.93987459]\n",
            " [-2.74731912]\n",
            " [ 0.4332944 ]\n",
            " [-1.5566888 ]\n",
            " [-3.22481251]\n",
            " [ 1.03846766]\n",
            " [-1.55548052]\n",
            " [-2.46908982]\n",
            " [-0.91140001]\n",
            " [ 2.23199949]\n",
            " [ 0.99012023]\n",
            " [-0.96824891]\n",
            " [ 1.87440739]\n",
            " [ 0.57040017]\n",
            " [-1.52003678]\n",
            " [-2.79065866]\n",
            " [-1.01185531]\n",
            " [-1.6902981 ]\n",
            " [ 0.77605115]\n",
            " [ 0.68593125]\n",
            " [-2.23434684]\n",
            " [-1.8201514 ]\n",
            " [-2.38903038]\n",
            " [-0.57907992]]\n",
            "[-0.6931471805599453, -0.06298420519327187, -0.05526958509119422, -0.051563805209271084, -0.04916488378478631, -0.047386266892018344, -0.04596121995039131, -0.044761883458695556, -0.0437185403847242, -0.042789666302018456, -0.04194884897100166, -0.04117838449478257, -0.0404658687552489, -0.03980226493442874, -0.0391807535269424, -0.03859602227440168, -0.03804381546279217, -0.037520641695132494, -0.03702358070331408, -0.03655015270821759, -0.036098227438078764, -0.03566595844601606, -0.03525173384572956, -0.03485413805795657, -0.034471921286220154, -0.03410397469020094, -0.03374930993921808, -0.033407042235820535, -0.033076376140644695, -0.03275659368304292, -0.03244704434829264, -0.032147136611517316, -0.03185633075050096, -0.03157413271928501, -0.031300088904612375, -0.03103378161982046, -0.030774825217116, -0.030522862720455138, -0.030277562898467992, -0.030038617710799704, -0.029805740072541474, -0.029578661890618328, -0.029357132333507303, -0.029140916301813702, -0.028929793072301643, -0.028723555092167095, -0.028522006903825236, -0.028324964183390082, -0.028132252878459777, -0.027943708432869453]\n"
          ],
          "name": "stdout"
        }
      ]
    },
    {
      "cell_type": "markdown",
      "metadata": {
        "id": "HTvgHKmg9y1b",
        "colab_type": "text"
      },
      "source": [
        "# Requirement 7: Plotting Likelihood v/s Number of Iterations.\n",
        "The resulting graph should increase through iterations  while the likelihood values decrease."
      ]
    },
    {
      "cell_type": "code",
      "metadata": {
        "id": "u8cjDHw89y1d",
        "colab_type": "code",
        "outputId": "f504b6b4-a14d-4fa1-a3d2-dc2f3c4c8c78",
        "colab": {
          "base_uri": "https://localhost:8080/",
          "height": 295
        }
      },
      "source": [
        "# Run this cell to plot Likelihood v/s Number of Iterations.\n",
        "iters = np.array(range(0,num_iters,100))\n",
        "plt.plot(iters,log_likelihood_values,'.-',color='green')\n",
        "plt.xlabel('Number of iterations')\n",
        "plt.ylabel('Likelihood')\n",
        "plt.title(\"Likelihood vs Number of Iterations.\")\n",
        "plt.grid()"
      ],
      "execution_count": 17,
      "outputs": [
        {
          "output_type": "display_data",
          "data": {
            "image/png": "[encoded data removed]",
            "text/plain": [
              "<Figure size 432x288 with 1 Axes>"
            ]
          },
          "metadata": {
            "tags": []
          }
        }
      ]
    },
    {
      "cell_type": "markdown",
      "metadata": {
        "id": "Jf_h6VIi9y1g",
        "colab_type": "text"
      },
      "source": [
        "# Requirement 6: Evaluating your model\n",
        "In order to evaluate the performance of the model, the metrics of precision, F1-score, and recall will be used to quantify the capacity of the model to predict breast cancer patients. A precision of 98%, a recall of 96%, and a F-1 score of  97.7% was obtained, which demonstrates the ability of the logistic model for prediction"
      ]
    },
    {
      "cell_type": "code",
      "metadata": {
        "id": "i8JhgTO89y1h",
        "colab_type": "code",
        "outputId": "e3078bf0-d672-459b-9306-5bd1088d50a8",
        "colab": {
          "base_uri": "https://localhost:8080/",
          "height": 68
        }
      },
      "source": [
        "# use hypothesis(...) to predict.\n",
        "\n",
        "\n",
        "#Sanity cheecks to ensure everything is in the right shape\n",
        "print(X_test.shape)\n",
        "print(y_test.shape)\n",
        "print(w.shape)\n",
        "\n",
        "test_results = hypothesis(X_test, w)\n",
        "\n",
        "\n",
        "\n"
      ],
      "execution_count": 18,
      "outputs": [
        {
          "output_type": "stream",
          "text": [
            "(143, 31)\n",
            "(143,)\n",
            "(31, 1)\n"
          ],
          "name": "stdout"
        }
      ]
    },
    {
      "cell_type": "code",
      "metadata": {
        "id": "J95GkK349y1j",
        "colab_type": "code",
        "outputId": "a2a4d467-4a60-4d8b-913b-9487a6f7d029",
        "colab": {
          "base_uri": "https://localhost:8080/",
          "height": 102
        }
      },
      "source": [
        "# cleaning the raw data points and transforming them to 0s and 1s\n",
        "test_results[test_results > 0.5] = 1\n",
        "test_results[test_results < 0.5] = 0\n",
        "\n",
        "TP=0\n",
        "FP=0\n",
        "FN=0\n",
        "TN=0\n",
        "for i in range(y_test.shape[0]):\n",
        "  if (y_test[i] == 0 and test_results [i] == 0):\n",
        "    TN+=1\n",
        "  elif (y_test[i] == 1 and test_results[i] == 1):\n",
        "    TP+=1\n",
        "  elif (y_test[i] == 1 and test_results[i] == 0):\n",
        "    FN+=1\n",
        "  elif (y_test[i] == 0 and test_results[i] == 1):\n",
        "    FP+=1\n",
        "precision = TP/(TP+FP)\n",
        "recall = TP/(TP+FN)\n",
        "f1 = (2* (precision*recall))/(precision+recall)\n",
        "        \n",
        "# calculate precision, recall and f1\n",
        "\n",
        "print(\"Precision: \",str((precision*100))+\"%\")\n",
        "print(\"Recall: \",str(recall*100)+\"%\")\n",
        "print(\"F1: \",str(f1*100)+\"%\")\n",
        "print(\"Confusion Matrix: \")\n",
        "print(\"TP: \",TP,\" FN: \",FN,\" FP: \",FP,\" TN: \",TN)"
      ],
      "execution_count": 19,
      "outputs": [
        {
          "output_type": "stream",
          "text": [
            "Precision:  95.14563106796116%\n",
            "Recall:  98.98989898989899%\n",
            "F1:  97.02970297029702%\n",
            "Confusion Matrix: \n",
            "TP:  98  FN:  1  FP:  5  TN:  39\n"
          ],
          "name": "stdout"
        }
      ]
    },
    {
      "cell_type": "markdown",
      "metadata": {
        "id": "d-VIgEQZHfzm",
        "colab_type": "text"
      },
      "source": [
        "###Requirement 8: Hyperparameter tuning\n",
        "By doubling the number of times the gradient ascent algorithm was run as well as decreasing the learning rate, an increase of approximately 1-2% in our metrics that arise from the confusion matrix (precision,recall and f1-score) was obtained. This brings into light the importance of hyperparemeter turning in order to improve our machine learning algorithms."
      ]
    },
    {
      "cell_type": "code",
      "metadata": {
        "id": "XXoOYkrt9y1n",
        "colab_type": "code",
        "outputId": "4d415226-49c1-4671-b19b-c5a614ad142f",
        "colab": {
          "base_uri": "https://localhost:8080/",
          "height": 102
        }
      },
      "source": [
        "# Set the learning_rate\n",
        "learning_rate = 0.3\n",
        "# Set the num_iters\n",
        "num_iters = 10000\n",
        "# Run the Logistic_Regresion_Gradient_Ascent() and store the returned values\n",
        "w, log_likelihood_values = Logistic_Regresion_Gradient_Ascent(X_train, y_train.reshape(y_train.shape[0],1), learning_rate, num_iters)\n",
        "\n",
        "test_results = hypothesis(X_test, w)\n",
        "\n",
        "# cleaning the raw data points and transforming them to 0s and 1s\n",
        "test_results[test_results > 0.5] = 1\n",
        "test_results[test_results < 0.5] = 0\n",
        "\n",
        "TP=0\n",
        "FP=0\n",
        "FN=0\n",
        "TN=0\n",
        "for i in range(y_test.shape[0]):\n",
        "  if (y_test[i] == 0 and test_results [i] == 0):\n",
        "    TN+=1\n",
        "  elif (y_test[i] == 1 and test_results[i] == 1):\n",
        "    TP+=1\n",
        "  elif (y_test[i] == 1 and test_results[i] == 0):\n",
        "    FN+=1\n",
        "  elif (y_test[i] == 0 and test_results[i] == 1):\n",
        "    FP+=1\n",
        "precision = TP/(TP+FP)\n",
        "recall = TP/(TP+FN)\n",
        "f1 = (2* (precision*recall))/(precision+recall)\n",
        "        \n",
        "# calculate precision, recall and f1\n",
        "\n",
        "print(\"Precision: \",str((precision*100))+\"%\")\n",
        "print(\"Recall: \",str(recall*100)+\"%\")\n",
        "print(\"F1: \",str(f1*100)+\"%\")\n",
        "print(\"Confusion Matrix: \")\n",
        "print(\"TP: \",TP,\" FN: \",FN,\" FP: \",FP,\" TN: \",TN)\n"
      ],
      "execution_count": 20,
      "outputs": [
        {
          "output_type": "stream",
          "text": [
            "Precision:  95.14563106796116%\n",
            "Recall:  98.98989898989899%\n",
            "F1:  97.02970297029702%\n",
            "Confusion Matrix: \n",
            "TP:  98  FN:  1  FP:  5  TN:  39\n"
          ],
          "name": "stdout"
        }
      ]
    }
  ]
}