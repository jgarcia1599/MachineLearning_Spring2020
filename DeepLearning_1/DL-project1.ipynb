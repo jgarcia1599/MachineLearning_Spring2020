{
 "cells": [
  {
   "cell_type": "markdown",
   "metadata": {},
   "source": [
    "# Introduction\n",
    "Image classification is the process of taking an input (like a picture) and outputting a class (like “cat”) or a probability that the input is a particular class (“there’s a 90% probability that this input is a cat”). You can look at a picture and know that you’re looking at a terrible shot of your own face, but how can a computer learn to do that? With a convolutional neural network!"
   ]
  },
  {
   "cell_type": "markdown",
   "metadata": {},
   "source": [
    "-----\n",
    "# Goals\n",
    "We would like you to establish a neural network involving advance DNN modules (i.e. convolution layers, RELU, pooling and fully connection layers and etc.)  to distinguish the specific category of an input image."
   ]
  },
  {
   "cell_type": "markdown",
   "metadata": {},
   "source": [
    "-------------\n",
    "## Packages\n",
    "Let's first import the necessary packages,"
   ]
  },
  {
   "cell_type": "code",
   "execution_count": null,
   "metadata": {},
   "outputs": [],
   "source": [
    "from __future__ import division\n",
    "\n",
    "import warnings\n",
    "from collections import namedtuple\n",
    "import torch\n",
    "import torch.nn as nn\n",
    "import torch.nn.functional as F\n",
    "from torch.jit.annotations import Optional, Tuple\n",
    "from torch import Tensor\n",
    "import os"
   ]
  },
  {
   "cell_type": "markdown",
   "metadata": {},
   "source": [
    "-----\n",
    "## GPU Device Configuration\n",
    "Then, we set up and configure our computational devices: \n",
    "Whether we use GPU or perform the calculation on CPU.\n",
    "we use the torch.devices() and torch.cude.is_available() functions to configure our computational devices"
   ]
  },
  {
   "cell_type": "code",
   "execution_count": null,
   "metadata": {},
   "outputs": [],
   "source": []
  },
  {
   "cell_type": "markdown",
   "metadata": {},
   "source": [
    "-----\n",
    "## Configuration\n",
    "### hyper parameters\n",
    "We then set up and hyper parameters that need for the our model.\n",
    "we need to define several hyper parameters for our model:\n",
    "1. learning rate\n",
    "2. batch size when training\n",
    "3. batch size when testing\n",
    "4. numbper of epoches\n",
    "5. out put directory"
   ]
  },
  {
   "cell_type": "code",
   "execution_count": null,
   "metadata": {},
   "outputs": [],
   "source": []
  },
  {
   "cell_type": "markdown",
   "metadata": {},
   "source": [
    "Create a directory if not exists\n",
    "using os.path.exists() to check whether it is exist\n",
    "using os.makedires to create a directory."
   ]
  },
  {
   "cell_type": "code",
   "execution_count": null,
   "metadata": {},
   "outputs": [],
   "source": []
  },
  {
   "cell_type": "markdown",
   "metadata": {},
   "source": [
    "-----\n",
    "##  Data Loading\n",
    "Next, we are going to load our data. \n",
    "### We need to prepare our data:\n",
    "\n",
    "### We first import necessary librarys for data loading"
   ]
  },
  {
   "cell_type": "code",
   "execution_count": null,
   "metadata": {},
   "outputs": [],
   "source": [
    "import numpy as np\n",
    "import os.path\n",
    "from glob import glob\n",
    "from PIL import Image\n",
    "from tqdm import tqdm\n",
    "import torchvision.datasets as dset\n",
    "import torch.utils.data as data\n",
    "from ipywidgets import IntProgress"
   ]
  },
  {
   "cell_type": "markdown",
   "metadata": {},
   "source": [
    "-----\n",
    "###  Image processing\n",
    "Then, we define a image preprocessing object that our dataloader can directly use this object to preprocess our data\n",
    "We use the pytorch API to preform the data processing.\n",
    "1. Use transforms.Compose()\n",
    "2. Use .RandomHorizontalFlip()\n",
    "3. You add any extra transforms you like.\n",
    "4. Create this transform for both training set and testting set. Note that the testing spilit do not require any transform"
   ]
  },
  {
   "cell_type": "code",
   "execution_count": null,
   "metadata": {},
   "outputs": [],
   "source": []
  },
  {
   "cell_type": "markdown",
   "metadata": {},
   "source": [
    "-----\n",
    "### We then download and prepare the data with the transforms defined above:\n",
    "1. Use command torchvision.datasets.CIFAR10() with root, train, download and transform posional arguments.\n",
    "2. Use the same command to create both train split and test split.\n",
    "3. Use torch.utils.data.DataLoader() to create the data loader based on the data we have.\n",
    "3. Use this command for both training split data loader and test split data loader"
   ]
  },
  {
   "cell_type": "code",
   "execution_count": null,
   "metadata": {},
   "outputs": [],
   "source": []
  },
  {
   "cell_type": "markdown",
   "metadata": {},
   "source": [
    "-----\n",
    "##  Network\n",
    "Next, we are going to design our GoogLeNet\n",
    "### First, we define our GoogLeNet class\n",
    "### You need to refer the paepr below to understand the structure.\n",
    "### https://arxiv.org/abs/1409.4842\n",
    "\n",
    "\n",
    "<img src=\"./a.png\" height=\"200\" width=\"600\">\n",
    "\n"
   ]
  },
  {
   "cell_type": "markdown",
   "metadata": {},
   "source": [
    "<img src=\"./b.png\" height=\"200\" width=\"600\">"
   ]
  },
  {
   "cell_type": "markdown",
   "metadata": {},
   "source": [
    "------\n",
    "### Inception Module with dimension reductions (There exist many implement methods)\n",
    "1. Create a python class called Inception which inherits nn.module\n",
    "\n",
    "2. Create a init function to init this python class\n",
    "    1. Require in_planes, kernel_1_x, kernel_3_in, kernel_3_x, kernel_5_in, kernel_5_x and pool_planes 7 arguments.\n",
    "    \n",
    "    2. Consists of 4 variables b1,b2,b3,b4\n",
    "    \n",
    "    3. b1 is a block consists of 2D convaluation, a 2D batch normalization layer and a ReLU activation function\n",
    "    \n",
    "    4. b2 is a block consists of tow 2D convaluations, two 2D batch normalization layers and tow ReLU activation functions\n",
    "    \n",
    "    5. b3 is a block consists of three 2D convaluations, three 2D batch normalization layers and three ReLU activation functions\n",
    "    \n",
    "    6. b4 is a block consists of a Maxpooling layer, a 2D convaluation, a 2D batch normalization layer and a ReLU activation function\n",
    "    \n",
    "3. Create the forward function\n",
    "\n",
    "    1. this forward function will forward the input function though every block and return the concatenation of all the output."
   ]
  },
  {
   "cell_type": "code",
   "execution_count": null,
   "metadata": {},
   "outputs": [],
   "source": []
  },
  {
   "cell_type": "markdown",
   "metadata": {},
   "source": [
    "-----\n",
    "### GoogLeNet Module (There exist many implement methods)"
   ]
  },
  {
   "cell_type": "markdown",
   "metadata": {},
   "source": [
    "<img src=\"./Picture1.png\" height=\"1000\" width=\"10000\">\n",
    "\n",
    "\n",
    "1. Create a python class called GoogLeNet which inherits nn.module\n",
    "\n",
    "2. Create a init function to init this python class\n",
    "\n",
    "    1. Consists of a variables that serves as all layers before the inception, which contains a 2D convaluation with padding=1, kernel_size=3 output channel=192, a 2D batch normalization layer and a ReLU activation fucntion.\n",
    "    \n",
    "    3. Two Inception block\n",
    "    \n",
    "    4. Maxpooling layer\n",
    "    \n",
    "    5. Seven Inception block\n",
    "    \n",
    "    6. Average Pooling layer\n",
    "    \n",
    "    7. A fully connected layer.\n",
    "    \n",
    "3. Create the forward function\n",
    "\n",
    "    1. this forward function will forward the input function though every block and return the output"
   ]
  },
  {
   "cell_type": "code",
   "execution_count": null,
   "metadata": {},
   "outputs": [],
   "source": []
  },
  {
   "cell_type": "markdown",
   "metadata": {},
   "source": [
    "### Next, we create the networka and send it to the target device"
   ]
  },
  {
   "cell_type": "code",
   "execution_count": null,
   "metadata": {},
   "outputs": [],
   "source": []
  },
  {
   "cell_type": "markdown",
   "metadata": {},
   "source": [
    "### Finally, We create:\n",
    " 1. an optimizer  (we use adam optimzer here)\n",
    " 2. A Criterion (CrossEntropy) function\n",
    " 3. A Scheduler which is used to decays the learning rate of each parameter group by gamma once the number of epoch reaches one of the milestones."
   ]
  },
  {
   "cell_type": "code",
   "execution_count": null,
   "metadata": {},
   "outputs": [],
   "source": []
  },
  {
   "cell_type": "markdown",
   "metadata": {},
   "source": [
    "-----\n",
    "##  Training\n",
    "Then, we are going to train our Network\n",
    "\n",
    "1. Set our network to the training model.\n",
    "2. Init the train loss, total data and number corrected predictions. \n",
    "3. For each data in the training split\n",
    "    1. Put the data to the correct devices using .to()\n",
    "    2. Reset the gradient of the optimzier.\n",
    "    3. Feed the data forward to the google net\n",
    "    4. Use the criterion function to compute the loss term\n",
    "    5. Backprop the loss\n",
    "    6. Update the network parameters using the optimzier\n",
    "    7. Accumulate the training loss\n",
    "    8. Find the prediciton. hint: using torch.max()\n",
    "    9. Increment the data size\n",
    "    10. Increment the corrected prediction\n",
    "    11. Print log\n",
    "    \n",
    "-----\n",
    "##  Testing\n",
    "Then, we are going to test our module\n",
    "\n",
    "1. Set our network to the test model.\n",
    "2. Init the test loss, total data and number corrected predictions. \n",
    "3. For each data in the training split, we warp it using torch.no_grad()\n",
    "    1. Put the data to the correct devices using .to()\n",
    "    2. Feed the data forward to the google net\n",
    "    3. Use the criterion function to compute the loss term\n",
    "    4. Accumulate the training loss\n",
    "    5. Find the prediciton. hint: using torch.max()\n",
    "    6. Increment the data size\n",
    "    7. Increment the corrected prediction\n",
    "    8. Print log\n",
    "\n",
    "-----\n",
    "##  Epochs:\n",
    "For each epoch:\n",
    "1. we first step our scheduler\n",
    "2. we train our module\n",
    "3. we test our module\n",
    "4. we update the testing accuracy\n",
    "5. we save the module at the end and print the accuracy"
   ]
  },
  {
   "cell_type": "code",
   "execution_count": null,
   "metadata": {},
   "outputs": [],
   "source": []
  }
 ],
 "metadata": {
  "kernelspec": {
   "display_name": "Python 3",
   "language": "python",
   "name": "python3"
  },
  "language_info": {
   "codemirror_mode": {
    "name": "ipython",
    "version": 3
   },
   "file_extension": ".py",
   "mimetype": "text/x-python",
   "name": "python",
   "nbconvert_exporter": "python",
   "pygments_lexer": "ipython3",
   "version": "3.8.0"
  }
 },
 "nbformat": 4,
 "nbformat_minor": 2
}
