{
  "nbformat": 4,
  "nbformat_minor": 0,
  "metadata": {
    "kernelspec": {
      "display_name": "Python 3",
      "language": "python",
      "name": "python3"
    },
    "language_info": {
      "codemirror_mode": {
        "name": "ipython",
        "version": 3
      },
      "file_extension": ".py",
      "mimetype": "text/x-python",
      "name": "python",
      "nbconvert_exporter": "python",
      "pygments_lexer": "ipython3",
      "version": "3.8.0"
    },
    "colab": {
      "name": "knn.ipynb",
      "provenance": [],
      "toc_visible": true
    }
  },
  "cells": [
    {
      "cell_type": "markdown",
      "metadata": {
        "id": "54vC8oeahG97",
        "colab_type": "text"
      },
      "source": [
        "## Step 1:  Getting, understanding, and cleaning the dataset\n"
      ]
    },
    {
      "cell_type": "markdown",
      "metadata": {
        "id": "A6wvgOf9hG98",
        "colab_type": "text"
      },
      "source": [
        "###  Importing the dataset\n"
      ]
    },
    {
      "cell_type": "code",
      "metadata": {
        "id": "3wUitIlvhG99",
        "colab_type": "code",
        "outputId": "cd768d05-f94d-4962-aa3d-4d1a0d8d21cf",
        "colab": {
          "base_uri": "https://localhost:8080/",
          "height": 204
        }
      },
      "source": [
        "# Import the usual libraries\n",
        "import matplotlib.pyplot as plt # plotting utilities \n",
        "%matplotlib inline\n",
        "import numpy as np\n",
        "import math \n",
        "import pandas as pd  # To read in the dataset we will use the Panda's library\n",
        "df = pd.read_csv('iris.csv', header=None, names = [\"sepal length[cm]\",\"sepal width[cm]\",\"petal length[cm]\", \"petal width\", \"label\"])\n",
        "\n",
        "# Next we observe the first 5 rows of the data to ensure everything was read correctly\n",
        "df.tail()"
      ],
      "execution_count": 0,
      "outputs": [
        {
          "output_type": "execute_result",
          "data": {
            "text/html": [
              "<div>\n",
              "<style scoped>\n",
              "    .dataframe tbody tr th:only-of-type {\n",
              "        vertical-align: middle;\n",
              "    }\n",
              "\n",
              "    .dataframe tbody tr th {\n",
              "        vertical-align: top;\n",
              "    }\n",
              "\n",
              "    .dataframe thead th {\n",
              "        text-align: right;\n",
              "    }\n",
              "</style>\n",
              "<table border=\"1\" class=\"dataframe\">\n",
              "  <thead>\n",
              "    <tr style=\"text-align: right;\">\n",
              "      <th></th>\n",
              "      <th>sepal length[cm]</th>\n",
              "      <th>sepal width[cm]</th>\n",
              "      <th>petal length[cm]</th>\n",
              "      <th>petal width</th>\n",
              "      <th>label</th>\n",
              "    </tr>\n",
              "  </thead>\n",
              "  <tbody>\n",
              "    <tr>\n",
              "      <th>145</th>\n",
              "      <td>6.7</td>\n",
              "      <td>3.0</td>\n",
              "      <td>5.2</td>\n",
              "      <td>2.3</td>\n",
              "      <td>Iris-virginica</td>\n",
              "    </tr>\n",
              "    <tr>\n",
              "      <th>146</th>\n",
              "      <td>6.3</td>\n",
              "      <td>2.5</td>\n",
              "      <td>5.0</td>\n",
              "      <td>1.9</td>\n",
              "      <td>Iris-virginica</td>\n",
              "    </tr>\n",
              "    <tr>\n",
              "      <th>147</th>\n",
              "      <td>6.5</td>\n",
              "      <td>3.0</td>\n",
              "      <td>5.2</td>\n",
              "      <td>2.0</td>\n",
              "      <td>Iris-virginica</td>\n",
              "    </tr>\n",
              "    <tr>\n",
              "      <th>148</th>\n",
              "      <td>6.2</td>\n",
              "      <td>3.4</td>\n",
              "      <td>5.4</td>\n",
              "      <td>2.3</td>\n",
              "      <td>Iris-virginica</td>\n",
              "    </tr>\n",
              "    <tr>\n",
              "      <th>149</th>\n",
              "      <td>5.9</td>\n",
              "      <td>3.0</td>\n",
              "      <td>5.1</td>\n",
              "      <td>1.8</td>\n",
              "      <td>Iris-virginica</td>\n",
              "    </tr>\n",
              "  </tbody>\n",
              "</table>\n",
              "</div>"
            ],
            "text/plain": [
              "     sepal length[cm]  sepal width[cm]  ...  petal width           label\n",
              "145               6.7              3.0  ...          2.3  Iris-virginica\n",
              "146               6.3              2.5  ...          1.9  Iris-virginica\n",
              "147               6.5              3.0  ...          2.0  Iris-virginica\n",
              "148               6.2              3.4  ...          2.3  Iris-virginica\n",
              "149               5.9              3.0  ...          1.8  Iris-virginica\n",
              "\n",
              "[5 rows x 5 columns]"
            ]
          },
          "metadata": {
            "tags": []
          },
          "execution_count": 56
        }
      ]
    },
    {
      "cell_type": "markdown",
      "metadata": {
        "id": "s-3yyHf6hG-D",
        "colab_type": "text"
      },
      "source": [
        "### Data preprocesssing\n",
        "It would be more convenient if the labels were integers instead of 'Iris-setosa', 'Iris-versicolor' and 'Iris-virginica'.  This way our code can always work with numerical values instead of strings."
      ]
    },
    {
      "cell_type": "code",
      "metadata": {
        "id": "_-rk0_3-hG-D",
        "colab_type": "code",
        "outputId": "dba2d077-6989-44d7-b424-a72117960f59",
        "colab": {
          "base_uri": "https://localhost:8080/",
          "height": 204
        }
      },
      "source": [
        "df['label'] = df.label.map({'Iris-setosa': 0,\n",
        "              'Iris-versicolor': 1,\n",
        "              'Iris-virginica': 2})\n",
        "df.head()# Again, lets observe the first 5 rows to make sure everything worked before we continue"
      ],
      "execution_count": 0,
      "outputs": [
        {
          "output_type": "execute_result",
          "data": {
            "text/html": [
              "<div>\n",
              "<style scoped>\n",
              "    .dataframe tbody tr th:only-of-type {\n",
              "        vertical-align: middle;\n",
              "    }\n",
              "\n",
              "    .dataframe tbody tr th {\n",
              "        vertical-align: top;\n",
              "    }\n",
              "\n",
              "    .dataframe thead th {\n",
              "        text-align: right;\n",
              "    }\n",
              "</style>\n",
              "<table border=\"1\" class=\"dataframe\">\n",
              "  <thead>\n",
              "    <tr style=\"text-align: right;\">\n",
              "      <th></th>\n",
              "      <th>sepal length[cm]</th>\n",
              "      <th>sepal width[cm]</th>\n",
              "      <th>petal length[cm]</th>\n",
              "      <th>petal width</th>\n",
              "      <th>label</th>\n",
              "    </tr>\n",
              "  </thead>\n",
              "  <tbody>\n",
              "    <tr>\n",
              "      <th>0</th>\n",
              "      <td>5.1</td>\n",
              "      <td>3.5</td>\n",
              "      <td>1.4</td>\n",
              "      <td>0.2</td>\n",
              "      <td>0</td>\n",
              "    </tr>\n",
              "    <tr>\n",
              "      <th>1</th>\n",
              "      <td>4.9</td>\n",
              "      <td>3.0</td>\n",
              "      <td>1.4</td>\n",
              "      <td>0.2</td>\n",
              "      <td>0</td>\n",
              "    </tr>\n",
              "    <tr>\n",
              "      <th>2</th>\n",
              "      <td>4.7</td>\n",
              "      <td>3.2</td>\n",
              "      <td>1.3</td>\n",
              "      <td>0.2</td>\n",
              "      <td>0</td>\n",
              "    </tr>\n",
              "    <tr>\n",
              "      <th>3</th>\n",
              "      <td>4.6</td>\n",
              "      <td>3.1</td>\n",
              "      <td>1.5</td>\n",
              "      <td>0.2</td>\n",
              "      <td>0</td>\n",
              "    </tr>\n",
              "    <tr>\n",
              "      <th>4</th>\n",
              "      <td>5.0</td>\n",
              "      <td>3.6</td>\n",
              "      <td>1.4</td>\n",
              "      <td>0.2</td>\n",
              "      <td>0</td>\n",
              "    </tr>\n",
              "  </tbody>\n",
              "</table>\n",
              "</div>"
            ],
            "text/plain": [
              "   sepal length[cm]  sepal width[cm]  petal length[cm]  petal width  label\n",
              "0               5.1              3.5               1.4          0.2      0\n",
              "1               4.9              3.0               1.4          0.2      0\n",
              "2               4.7              3.2               1.3          0.2      0\n",
              "3               4.6              3.1               1.5          0.2      0\n",
              "4               5.0              3.6               1.4          0.2      0"
            ]
          },
          "metadata": {
            "tags": []
          },
          "execution_count": 57
        }
      ]
    },
    {
      "cell_type": "code",
      "metadata": {
        "id": "zMS4IXlDhG-G",
        "colab_type": "code",
        "outputId": "fcb4fdb8-51cb-416a-dde3-1e322e60eece",
        "colab": {
          "base_uri": "https://localhost:8080/",
          "height": 170
        }
      },
      "source": [
        "# This time we will use sklearn's method for seperating the data\n",
        "from sklearn.model_selection import train_test_split\n",
        "names = [\"sepal length[cm]\",\"petal width\"]\n",
        "#After completing the assignment, try your code with all the features\n",
        "#names = [\"sepal length[cm]\",\"sepal width[cm]\",\"petal length[cm]\", \"petal width\"]\n",
        "df_X_train, df_X_test, df_y_train, df_y_test = train_test_split(df[names],df['label'], random_state=0)\n",
        "\n",
        "X_train=df_X_train.to_numpy()\n",
        "X_test=df_X_test.to_numpy()\n",
        "y_train=df_y_train.to_numpy()\n",
        "y_test=df_y_test.to_numpy()\n",
        "\n",
        "#Looking at the train/test split\n",
        "print(\"The number of training examples: \", X_train.shape[0])\n",
        "print(\"The number of test exampels: \", X_test.shape[0])\n",
        "\n",
        "print(\"The first four training labels\")\n",
        "print(y_train[0:4])\n",
        "\n",
        "print(\"The first four iris' measurements\")\n",
        "print(X_test[0:4])"
      ],
      "execution_count": 0,
      "outputs": [
        {
          "output_type": "stream",
          "text": [
            "The number of training examples:  112\n",
            "The number of test exampels:  38\n",
            "The first four training labels\n",
            "[1 1 2 0]\n",
            "The first four iris' measurements\n",
            "[[5.8 2.4]\n",
            " [6.  1. ]\n",
            " [5.5 0.2]\n",
            " [7.3 1.8]]\n"
          ],
          "name": "stdout"
        }
      ]
    },
    {
      "cell_type": "markdown",
      "metadata": {
        "id": "hxYkD7ighG-J",
        "colab_type": "text"
      },
      "source": [
        "## visualizing the data set\n",
        "\n",
        "Using a scatter plot to visualize the dataset"
      ]
    },
    {
      "cell_type": "code",
      "metadata": {
        "id": "FdimQzVChG-K",
        "colab_type": "code",
        "outputId": "14cbfce8-cfa3-4d53-ff18-3fbe61f02bc8",
        "colab": {
          "base_uri": "https://localhost:8080/",
          "height": 279
        }
      },
      "source": [
        "iris_names=['Iris-setosa','Iris-versicolor','Iris-virginica']\n",
        "for i in range(0,3):\n",
        "    plt.scatter(X_train[y_train == i, 0],\n",
        "                X_train[y_train == i, 1],\n",
        "            marker='o',\n",
        "            label='class '+ str(i)+ ' '+ iris_names[i])\n",
        "\n",
        "plt.xlabel('sepal width[cm]')\n",
        "plt.ylabel('petal length[cm]')\n",
        "plt.legend(loc='lower right')\n",
        "\n",
        "plt.show()"
      ],
      "execution_count": 0,
      "outputs": [
        {
          "output_type": "display_data",
          "data": {
            "image/png": "[encoded data removed]",
            "text/plain": [
              "<Figure size 432x288 with 1 Axes>"
            ]
          },
          "metadata": {
            "tags": [],
            "needs_background": "light"
          }
        }
      ]
    },
    {
      "cell_type": "markdown",
      "metadata": {
        "id": "aBv-GgAPhG-M",
        "colab_type": "text"
      },
      "source": [
        "# Your code goes here"
      ]
    },
    {
      "cell_type": "code",
      "metadata": {
        "id": "DwdLhxOuhG-N",
        "colab_type": "code",
        "outputId": "1618a34f-69f5-41ba-c1ea-55497bc34aeb",
        "colab": {
          "base_uri": "https://localhost:8080/",
          "height": 34
        }
      },
      "source": [
        "def euclidean_distance(x1, x2):\n",
        "    #suppose that x1:(1,2) x2:(N*3) \n",
        "    sum_squared = 0\n",
        "    for i in range(len(x2)):\n",
        "      sum_squared += math.pow(x1[i]-x2[i],2)\n",
        "    return math.sqrt(sum_squared)\n",
        "\n",
        "print(euclidean_distance(X_test[0],X_train[0]))"
      ],
      "execution_count": 0,
      "outputs": [
        {
          "output_type": "stream",
          "text": [
            "0.9055385138137416\n"
          ],
          "name": "stdout"
        }
      ]
    },
    {
      "cell_type": "code",
      "metadata": {
        "id": "6v3eiTbXhG-Q",
        "colab_type": "code",
        "outputId": "8e3d9b78-1806-49a7-a27a-f56b8bdc49bb",
        "colab": {
          "base_uri": "https://localhost:8080/",
          "height": 34
        }
      },
      "source": [
        "def get_neighbors( X_train, y_train, x_test, k, distance= euclidean_distance):\n",
        "    # X in N*2, y in N*1, x_test in 2,\n",
        "    # calculate all the distances\n",
        "    # find the nearest K nieghtbors' indexs\n",
        "    # return k nerest negibors\n",
        "\n",
        "    #calculate all the distances between the query and every element in X_train\n",
        "    distances = []\n",
        "    for train in X_train:\n",
        "      distances.append((train,(distance(train,x_test))))\n",
        "    #sort the distances\n",
        "    distances.sort(key=lambda tup: tup[1])\n",
        "\n",
        "    #get the indexes of the distances\n",
        "    knn_indexes = []\n",
        "    knn_labels = []\n",
        "    for nn in range(k):\n",
        "      index = np.where((X_train == distances[nn][0]).all(axis=1))[0][0]\n",
        "      knn_indexes.append(index)\n",
        "      knn_labels.append(y_train[index])\n",
        "\n",
        "    # print(knn_labels)\n",
        "  \n",
        "    \n",
        "\n",
        "    return knn_labels\n",
        "\n",
        "get_neighbors(X_train,y_train,X_test[0],20)"
      ],
      "execution_count": 0,
      "outputs": [
        {
          "output_type": "execute_result",
          "data": {
            "text/plain": [
              "[2, 2, 2, 2, 2, 2, 2, 2, 2, 2, 2, 2, 2, 2, 2, 2, 2, 1, 2, 1]"
            ]
          },
          "metadata": {
            "tags": []
          },
          "execution_count": 61
        }
      ]
    },
    {
      "cell_type": "code",
      "metadata": {
        "id": "FYwS7FXJhG-T",
        "colab_type": "code",
        "colab": {}
      },
      "source": [
        "import operator\n",
        "def get_label(neighbors_labels):\n",
        "    # calculate and return label with the majority votes\n",
        "    votes = dict( (l, neighbors_labels.count(l) ) for l in set(neighbors_labels))\n",
        "    sorted_votes = sorted(votes.items(), key=lambda x: x[1])\n",
        "    label = sorted_votes[len(sorted_votes)-1][0]\n",
        "    # print(label)\n",
        "\n",
        "\n",
        "    return label\n"
      ],
      "execution_count": 0,
      "outputs": []
    },
    {
      "cell_type": "code",
      "metadata": {
        "id": "TxZpUBzahG-V",
        "colab_type": "code",
        "colab": {}
      },
      "source": [
        "def knn(training_data,y_train,testing_data,k,distance= euclidean_distance):\n",
        "    # for each testing data, using functions above to predict the class labes using knn algo\n",
        "    testing_data_labels = []\n",
        "    for query in testing_data:\n",
        "      neighbor_labels = get_neighbors(training_data,y_train,query,k,distance)\n",
        "      query_label = get_label(neighbor_labels)\n",
        "      testing_data_labels.append(query_label)\n",
        "\n",
        "      \n",
        "\n",
        "    return testing_data_labels\n",
        "testing_data_labels = knn(X_train,y_train,X_test,20,distance= euclidean_distance)"
      ],
      "execution_count": 0,
      "outputs": []
    },
    {
      "cell_type": "code",
      "metadata": {
        "id": "HMid57QFhG-X",
        "colab_type": "code",
        "colab": {}
      },
      "source": [
        "def eval(y_test,pred):\n",
        "    y_size = len(y_test)\n",
        "    nmc = 0\n",
        "    for i in range(y_size):\n",
        "      if(y_test[i] != pred[i] ):\n",
        "        nmc+=1\n",
        "    \n",
        "    accuracy = (y_size - nmc)/y_size\n",
        "\n",
        "    return accuracy"
      ],
      "execution_count": 0,
      "outputs": []
    },
    {
      "cell_type": "code",
      "metadata": {
        "id": "5B330y--hG-Z",
        "colab_type": "code",
        "outputId": "d46141b0-4bc4-4d5e-d48f-f8a6e29f0334",
        "colab": {
          "base_uri": "https://localhost:8080/",
          "height": 34
        }
      },
      "source": [
        "# K=1\n",
        "testing_data_labels_k1 = knn(X_train,y_train,X_test,1,distance= euclidean_distance)\n",
        "accuracy_k1 = eval(y_test,testing_data_labels_k1 )\n",
        "print(\"Accuracy for K = 1: \",accuracy_k1)"
      ],
      "execution_count": 0,
      "outputs": [
        {
          "output_type": "stream",
          "text": [
            "Accuracy for K = 1:  0.9210526315789473\n"
          ],
          "name": "stdout"
        }
      ]
    },
    {
      "cell_type": "code",
      "metadata": {
        "id": "l_bZE0lihG-c",
        "colab_type": "code",
        "outputId": "68678144-e107-4dc5-87ee-48f43b004b81",
        "colab": {
          "base_uri": "https://localhost:8080/",
          "height": 34
        }
      },
      "source": [
        "# K=3\n",
        "testing_data_labels_k3 = knn(X_train,y_train,X_test,3,distance= euclidean_distance)\n",
        "accuracy_k3 = eval(y_test,testing_data_labels_k3 )\n",
        "print(\"Accuracy for K = 3: \",accuracy_k3)"
      ],
      "execution_count": 0,
      "outputs": [
        {
          "output_type": "stream",
          "text": [
            "Accuracy for K = 3:  0.9210526315789473\n"
          ],
          "name": "stdout"
        }
      ]
    },
    {
      "cell_type": "code",
      "metadata": {
        "id": "12Pi9B1ShG-f",
        "colab_type": "code",
        "outputId": "a09826ad-2fed-42fc-faa2-3ac5132e5ed5",
        "colab": {
          "base_uri": "https://localhost:8080/",
          "height": 34
        }
      },
      "source": [
        "# K=5\n",
        "testing_data_labels_k5 = knn(X_train,y_train,X_test,5,distance= euclidean_distance)\n",
        "accuracy_k5 = eval(y_test,testing_data_labels_k5 )\n",
        "print(\"Accuracy for K = 5: \",accuracy_k5)"
      ],
      "execution_count": 0,
      "outputs": [
        {
          "output_type": "stream",
          "text": [
            "Accuracy for K = 5:  0.9473684210526315\n"
          ],
          "name": "stdout"
        }
      ]
    },
    {
      "cell_type": "code",
      "metadata": {
        "id": "S54U7ZpIhG-h",
        "colab_type": "code",
        "colab": {}
      },
      "source": [
        "def mydistance(x1, x2):\n",
        "    #Manhattan Distance\n",
        "    difference = 0\n",
        "    for i in range(len(x2)):\n",
        "      difference += abs(x2[i]-x1[i])\n",
        "    return difference\n",
        "    \n"
      ],
      "execution_count": 0,
      "outputs": []
    },
    {
      "cell_type": "code",
      "metadata": {
        "id": "bvlFqYe9hG-k",
        "colab_type": "code",
        "outputId": "06954671-de48-4d54-ce64-b5d6a2a21514",
        "colab": {
          "base_uri": "https://localhost:8080/",
          "height": 34
        }
      },
      "source": [
        "# K=1\n",
        "testing_data_labels_k1 = knn(X_train,y_train,X_test,1,distance= mydistance)\n",
        "accuracy_k1 = eval(y_test,testing_data_labels_k1 )\n",
        "print(\"Accuracy for K = 1 using Manhattan Distance: \",accuracy_k1)"
      ],
      "execution_count": 0,
      "outputs": [
        {
          "output_type": "stream",
          "text": [
            "Accuracy for K = 1 using Manhattan Distance:  0.9210526315789473\n"
          ],
          "name": "stdout"
        }
      ]
    },
    {
      "cell_type": "code",
      "metadata": {
        "id": "Lt-NiDWPhG-m",
        "colab_type": "code",
        "outputId": "e19456b1-1d88-4d85-8d10-44ede9c43a67",
        "colab": {
          "base_uri": "https://localhost:8080/",
          "height": 34
        }
      },
      "source": [
        "# K=3\n",
        "testing_data_labels_k3 = knn(X_train,y_train,X_test,3,distance= mydistance)\n",
        "accuracy_k3 = eval(y_test,testing_data_labels_k3 )\n",
        "print(\"Accuracy for K = 3 using Manhattan Distance: \",accuracy_k3)"
      ],
      "execution_count": 0,
      "outputs": [
        {
          "output_type": "stream",
          "text": [
            "Accuracy for K = 3 using Manhattan Distance:  0.9210526315789473\n"
          ],
          "name": "stdout"
        }
      ]
    },
    {
      "cell_type": "code",
      "metadata": {
        "id": "c5P84nzzhG-p",
        "colab_type": "code",
        "outputId": "0674b2c7-f4e4-4107-b80c-e0d8b33fe3d9",
        "colab": {
          "base_uri": "https://localhost:8080/",
          "height": 34
        }
      },
      "source": [
        "# K=5\n",
        "testing_data_labels_k5 = knn(X_train,y_train,X_test,5,distance= mydistance)\n",
        "accuracy_k5 = eval(y_test,testing_data_labels_k5 )\n",
        "print(\"Accuracy for K = 5 using Manhattan Distance: \",accuracy_k5)"
      ],
      "execution_count": 0,
      "outputs": [
        {
          "output_type": "stream",
          "text": [
            "Accuracy for K = 5 using Manhattan Distance:  0.9473684210526315\n"
          ],
          "name": "stdout"
        }
      ]
    },
    {
      "cell_type": "markdown",
      "metadata": {
        "id": "3BIA5xazmSB2",
        "colab_type": "text"
      },
      "source": [
        "###Resorces \n",
        "- https://towardsdatascience.com/machine-learning-basics-with-the-k-nearest-neighbors-algorithm-6a6e71d01761\n",
        "\n",
        "- "
      ]
    },
    {
      "cell_type": "markdown",
      "metadata": {
        "id": "FQVjSmRBmk-V",
        "colab_type": "text"
      },
      "source": [
        "- Questions 4,6,7. For k = 1,2,3, which examples were not correctly classified? \n",
        "\n",
        "Those that were really far away from the knn perimeter. As we increased the # of ks, (from 1 to 3), we can see that our accuracy increases as we allow for more neighbors in the perimeter. \n",
        "\n",
        "\n",
        "- Question 10: I choose\n",
        "<a href=\"https://xlinux.nist.gov/dads/HTML/manhattanDistance.html\">Manhattan Distance</a> formula as it is suited for high dimensional data, which I thought might help for data points that are farther away from the knn perimeter. Although it wasnt better, this distance formula proved to be equally perfomant as euclidean distance for this dataset.\n",
        "\n"
      ]
    }
  ]
}