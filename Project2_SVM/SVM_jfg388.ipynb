{
  "nbformat": 4,
  "nbformat_minor": 0,
  "metadata": {
    "kernelspec": {
      "display_name": "Python 3",
      "language": "python",
      "name": "python3"
    },
    "language_info": {
      "codemirror_mode": {
        "name": "ipython",
        "version": 3
      },
      "file_extension": ".py",
      "mimetype": "text/x-python",
      "name": "python",
      "nbconvert_exporter": "python",
      "pygments_lexer": "ipython3",
      "version": "3.7.6"
    },
    "colab": {
      "name": "SVM_Primal_pseudo.ipynb",
      "provenance": [],
      "collapsed_sections": [],
      "toc_visible": true
    }
  },
  "cells": [
    {
      "cell_type": "markdown",
      "metadata": {
        "id": "x5A3OQHBXGmW",
        "colab_type": "text"
      },
      "source": [
        "# Hard Margin Case"
      ]
    },
    {
      "cell_type": "markdown",
      "metadata": {
        "id": "2wb9tehM37-3",
        "colab_type": "text"
      },
      "source": [
        "#### 3. Plot the dataset with the labels.\n",
        "Below, the data is labeled and graphed accordingly, subdivided into positive (red) and negative  (blue) samples. "
      ]
    },
    {
      "cell_type": "code",
      "metadata": {
        "id": "Ih3VBMUOXGmZ",
        "colab_type": "code",
        "outputId": "b3b67a50-7b80-4d40-c8db-3606062cebd6",
        "colab": {
          "base_uri": "https://localhost:8080/",
          "height": 279
        }
      },
      "source": [
        "import numpy as np\n",
        "import csv\n",
        "from numpy import genfromtxt\n",
        "import matplotlib.pyplot as plt\n",
        "from cvxopt import matrix, solvers\n",
        "import cvxopt\n",
        "%matplotlib inline\n",
        "\n",
        "# SVM explanation:\n",
        "# https://medium.com/@zachary.bedell/support-vector-machines-explained-73f4ec363f13\n",
        "\n",
        "# Use numpy function genfromtxt(…, delimiter=…) to load from files.\n",
        "\n",
        "# Store the data from “X.csv” to X and target from “y.csv” to y\n",
        "# print(X)\n",
        "X = genfromtxt('X.csv',delimiter = ',')\n",
        "y = genfromtxt('y.csv',delimiter = ',')\n",
        "# print(X)\n",
        "# Use np.where to find all index of data which y=1 and store them to idx_1\n",
        "idx_1 = np.where( y == 1)\n",
        "# print(idx_1)\n",
        "# same as y=-1, store them to idx_2\n",
        "idx_2 = np.where(y == -1)\n",
        "# print(idx_2)\n",
        "# make the plot use plt.scatter(X[idx_1,0], X[idx_1,1], s=30, c='b', marker=\"o\")\n",
        "def plot_data(X,y,idx_1,idx_2):\n",
        "  plt.scatter(X[idx_1,0], X[idx_1,1], s=30, c='b', marker=\"o\")\n",
        "  plt.scatter(X[idx_2,0],X[idx_2,1],s=30,c='r',marker = \"o\")\n",
        "  plt.xlabel(\"x1\")\n",
        "  plt.ylabel(\"x2\")\n",
        "\n",
        "plot_data(X,y,idx_1,idx_2)\n",
        "# Set the x label with x1 and y label with x2\n",
        "\n",
        "# plt.show()\n"
      ],
      "execution_count": 59,
      "outputs": [
        {
          "output_type": "display_data",
          "data": {
            "image/png": "[encoded data removed]",
            "text/plain": [
              "<Figure size 432x288 with 1 Axes>"
            ]
          },
          "metadata": {
            "tags": []
          }
        }
      ]
    },
    {
      "cell_type": "markdown",
      "metadata": {
        "id": "4okGobG2471f",
        "colab_type": "text"
      },
      "source": [
        "###4.Compute the SVM primal problem and return the weights\n",
        "Using the cvxopt library, the primal problem for the SVM Hard Margin Case will be solved by returning the optimal weights values. Such weights will be used to calculate the decision boundary and the optimized margin"
      ]
    },
    {
      "cell_type": "code",
      "metadata": {
        "id": "OSlga37sXGmd",
        "colab_type": "code",
        "outputId": "d5c12799-3cfa-4bb4-d2b1-48533649541d",
        "colab": {
          "base_uri": "https://localhost:8080/",
          "height": 85
        }
      },
      "source": [
        "\n",
        "def linear_svm(X,y):\n",
        "    solvers.options['show_progress'] = False\n",
        "#     store the shape of X to two variables: N,F\n",
        "    N,F = X.shape\n",
        "\n",
        "#     create the Identity matrix using np.diag and np.ones\n",
        "    I = np.identity(F)     \n",
        "\n",
        "#     create the Q matrix using np.zeros\n",
        "    Q = np.zeros((F+1,F+1))\n",
        "   \n",
        "    stop = 1\n",
        "    for row in range (F+1):\n",
        "      for column in range(F+1):\n",
        "        if stop:\n",
        "          # when row number is 0, set Q[row, col]=0\n",
        "          if row == 0:\n",
        "            Q[row,column]=0\n",
        "          #when col number is 0 set Q[row,col]=0\n",
        "          elif column == 0:\n",
        "            Q[row,column]=0\n",
        "          # else, compute Identity [row-1,col-1] and set it to Q[row,col]\n",
        "          else:\n",
        "            id_shape = Q[row:,column:].shape\n",
        "            identity = np.zeros(id_shape)\n",
        "            np.fill_diagonal(identity,1)\n",
        "            Q[row:,column:] = identity\n",
        "            stop = 0\n",
        "    \n",
        "    # use cvxopt.matrix to create a new variable p with value Q\n",
        "    P = cvxopt.matrix(Q)\n",
        "    \n",
        "    # use cvxopt.matrix to create a new variable q with value np.zeros(F+1)\n",
        "    q = cvxopt.matrix(np.zeros(F+1))\n",
        "\n",
        "    # create an empty list\n",
        "    e_list = []\n",
        "\n",
        "    for n in range(N):\n",
        "      # create a zero matric with size F+1\n",
        "      z_matrix = np.zeros(F+1)\n",
        "      # for each element in the matric above:\n",
        "      for element in range(F+1):\n",
        "        # when the index=0, then set it to 1\n",
        "        if element == 0:\n",
        "          z_matrix[element] = 1\n",
        "        #  else, set the value to X[n].T[i-1]\n",
        "        else:\n",
        "          z_matrix[element] = X[n].T[element-1]\n",
        "      #  append the y[n]*updated matric to the empty list above (the one above the for loop\n",
        "      e_list.append(y[n]*z_matrix)   \n",
        "    # change the empty list to the np array and times -1\n",
        "    e_list = -1 * np.array(e_list)\n",
        "\n",
        "    # use cvxopt.matrix to convert above np array and store it in a variable: G\n",
        "    G = cvxopt.matrix(e_list)\n",
        "    # create a variable named h with value np.ones(N)*-1 and convert it to cvxopt\n",
        "    h = cvxopt.matrix(np.ones(N)*-1)\n",
        "    # solve the primal using cvxopt.solvers.qp\n",
        "    primal = cvxopt.solvers.qp(P,q,G,h)\n",
        "    #  return the answer.\n",
        "    return primal\n",
        "\n",
        "\n",
        "# fit svm classifier\n",
        "solved = linear_svm(X,y)\n",
        "w = np.array(solved['x'])\n",
        "print('Weights:\\n',w)"
      ],
      "execution_count": 60,
      "outputs": [
        {
          "output_type": "stream",
          "text": [
            "Weights:\n",
            " [[ 0.46118099]\n",
            " [ 1.42189318]\n",
            " [-1.58830104]]\n"
          ],
          "name": "stdout"
        }
      ]
    },
    {
      "cell_type": "markdown",
      "metadata": {
        "id": "UH1AUh5sXGmf",
        "colab_type": "text"
      },
      "source": [
        "### 5. Plotting the  decision boundary\n",
        "Using the weights, the slope and the y_intercept of the decision boundary is calculated."
      ]
    },
    {
      "cell_type": "code",
      "metadata": {
        "id": "MJH01nMrdkZE",
        "colab_type": "code",
        "colab": {}
      },
      "source": [
        "def plot_decision_boundary(w):\n",
        "  # Decision boundary equation:  w^T x + b = 0\n",
        "  \n",
        "  #     find the slope of the decision boundary\n",
        "  slope = - w[1] / w[2]\n",
        "  #     find the intercept.\n",
        "  y_intercept = -w[0] / w[2]\n",
        "  #     generate several x values np.arrange()\n",
        "  x_values = np.arange(0, 6)\n",
        "  #     calculate its y values using intercept and slope\n",
        "  y_values= x_values * slope + y_intercept\n",
        "  #     plot a line\n",
        "  plt.plot(x_values,y_values,c=\"black\")"
      ],
      "execution_count": 0,
      "outputs": []
    },
    {
      "cell_type": "code",
      "metadata": {
        "id": "wOInXjOKXGmg",
        "colab_type": "code",
        "outputId": "045f484b-77e4-4919-91e8-220356b93874",
        "colab": {
          "base_uri": "https://localhost:8080/",
          "height": 282
        }
      },
      "source": [
        "def plot_data_with_decision_boundary(X, y, w, fig_size=(15, 9), labels=['x1', 'x2']):\n",
        "  # plot the dataset\n",
        "  plot_data(X,y,idx_1,idx_2)\n",
        "  # plot the decision boundary\n",
        "  plot_decision_boundary(w)\n",
        "\n",
        "\n",
        "  \n",
        "\n",
        "# plotting the points and decision boundary using the above function   \n",
        "\n",
        "plot_data_with_decision_boundary(X,y,w)\n"
      ],
      "execution_count": 62,
      "outputs": [
        {
          "output_type": "display_data",
          "data": {
            "image/png": "[encoded data removed]",
            "text/plain": [
              "<Figure size 432x288 with 1 Axes>"
            ]
          },
          "metadata": {
            "tags": []
          }
        }
      ]
    },
    {
      "cell_type": "markdown",
      "metadata": {
        "id": "IrGzhYbNXGmi",
        "colab_type": "text"
      },
      "source": [
        "### 6. Using the decision boundary formula, the distances of all the points from the decision boundary is calculated.    "
      ]
    },
    {
      "cell_type": "code",
      "metadata": {
        "id": "AgZJ3WMrXGmj",
        "colab_type": "code",
        "outputId": "e6d98dac-94d2-45b2-acda-d2ff194edcff",
        "colab": {
          "base_uri": "https://localhost:8080/",
          "height": 136
        }
      },
      "source": [
        "# calculate distance from each point to the decision boundary\n",
        "\n",
        "w0 = w[0]\n",
        "w1 = w[1]\n",
        "w2 = w[2]\n",
        "wmagnitudesquared= (w1**2)+(w2**2)\n",
        "w_array = []\n",
        "w_array.append(w1)\n",
        "w_array.append(w2)\n",
        "w_array = np.array(w_array)\n",
        "r_values= []\n",
        "for point in X:\n",
        "  r = (w_array.T.dot(point.reshape(2,1)) + w0)/wmagnitudesquared\n",
        "  r_values.append(r.tolist()[0][0])\n",
        "r_values = np.abs(r_values)\n",
        "id_smallest = np.argpartition(r_values,3)[:3]\n",
        "margin = 2/((wmagnitudesquared)**(1/2))\n",
        "print(\"Margin:\",margin[0])\n",
        "print(\"Points closes to decision boundary: \")\n",
        "print(\"Points Idx: \",id_smallest)\n",
        "print(\"Points: \")\n",
        "print(X[id_smallest[0]])\n",
        "print(X[id_smallest[1]])\n",
        "print(X[id_smallest[2]])\n"
      ],
      "execution_count": 63,
      "outputs": [
        {
          "output_type": "stream",
          "text": [
            "Margin: 0.9381836869408985\n",
            "Points closes to decision boundary: \n",
            "Points Idx:  [68 49 25]\n",
            "Points: \n",
            "[1.71138733 2.45204836]\n",
            "[2.51879639 1.91565724]\n",
            "[2.11457352 1.5537852 ]\n"
          ],
          "name": "stdout"
        }
      ]
    },
    {
      "cell_type": "markdown",
      "metadata": {
        "id": "zAnvLzW-XGmm",
        "colab_type": "text"
      },
      "source": [
        "### 7-8: Write the decision function $f_{\\texttt{primal}}({\\bf x})$ to predict examples.  Use this function to predict the label of $(3.0, 1.5)^T$ and $(1.2, 3.0)^T$\n",
        "Using the decision boundary formula, the y value from the points is calculated and if it is 1 or -1 the data point will be labeled as positive(red) and negative(blue). "
      ]
    },
    {
      "cell_type": "code",
      "metadata": {
        "id": "-GNqnb0YXGmm",
        "colab_type": "code",
        "colab": {
          "base_uri": "https://localhost:8080/",
          "height": 282
        },
        "outputId": "916b8462-ca48-4d43-d369-34f1afc8f1bd"
      },
      "source": [
        "# using f_ primal() to predict (3.0, 1.5) and (1.2, 3.0) and plot the figure.\n",
        "def f_primal(x):\n",
        "  x = np.array(x)\n",
        "\n",
        "  y = w_array.T.dot(x.reshape(2,1))+w0\n",
        "  if (y >= 1):\n",
        "    return 'b'\n",
        "  else:\n",
        "    return 'r'\n",
        "\n",
        "point_1 = [3.0,1.5]\n",
        "point_2 = [1.2,3.0]\n",
        "label_p1 = f_primal(point_1)\n",
        "label_p2 = f_primal(point_2)\n",
        "plot_decision_boundary(w)\n",
        "plt.scatter(point_1[0], point_1[1], s=30, c=label_p1, marker=\"o\")\n",
        "plt.scatter(point_2[0], point_2[1], s=30, c=label_p2, marker=\"o\")\n",
        "\n",
        "\n",
        "\n"
      ],
      "execution_count": 64,
      "outputs": [
        {
          "output_type": "execute_result",
          "data": {
            "text/plain": [
              "<matplotlib.collections.PathCollection at 0x7f1cb629a0f0>"
            ]
          },
          "metadata": {
            "tags": []
          },
          "execution_count": 64
        },
        {
          "output_type": "display_data",
          "data": {
            "image/png": "[encoded data removed]",
            "text/plain": [
              "<Figure size 432x288 with 1 Axes>"
            ]
          },
          "metadata": {
            "tags": []
          }
        }
      ]
    },
    {
      "cell_type": "markdown",
      "metadata": {
        "id": "9IUr3M-2jUxS",
        "colab_type": "text"
      },
      "source": [
        "Some resources that helped me understand SVMs:\n",
        "- Yi Fang Slides\n",
        "\n",
        "- https://goelhardik.github.io/2016/11/28/svm-cvxopt/\n",
        "- https://xavierbourretsicotte.github.io/SVM_implementation.html\n",
        "- http://www.robots.ox.ac.uk/~cvrgbennett00duality.pdf https://pythonprogramming.net/soft-margin-kernel-cvxopt-svm-machine-learning-tutorial/ \n",
        "- https://towardsdatascience.com/support-vector-machines-for-classification-fc7c1565e3\n",
        "-https://cmci.colorado.edu/classes/INFO-4604/files/notes_svm.pdf\n",
        "\n"
      ]
    }
  ]
}